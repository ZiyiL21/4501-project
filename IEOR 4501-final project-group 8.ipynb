{
 "cells": [
  {
   "cell_type": "markdown",
   "metadata": {},
   "source": [
    "# Understanding Hired Rides in NYC\n",
    "\n",
    "_[Project prompt](https://docs.google.com/document/d/1VERPjEZcC1XSs4-02aM-DbkNr_yaJVbFjLJxaYQswqA/edit#)_\n",
    "\n",
    "_This scaffolding notebook may be used to help setup your final project. It's **totally optional** whether you make use of this or not._\n",
    "\n",
    "_If you do use this notebook, everything provided is optional as well - you may remove or add prose and code as you wish._\n",
    "\n",
    "_Anything in italics (prose) or comments (in code) is meant to provide you with guidance. **Remove the italic lines and provided comments** before submitting the project, if you choose to use this scaffolding. We don't need the guidance when grading._\n",
    "\n",
    "_**All code below should be consider \"pseudo-code\" - not functional by itself, and only a suggestion at the approach.**_"
   ]
  },
  {
   "cell_type": "markdown",
   "metadata": {},
   "source": [
    "## Project Setup"
   ]
  },
  {
   "cell_type": "code",
   "execution_count": 1,
   "metadata": {},
   "outputs": [],
   "source": [
    "# all import statements needed for the project, for example:\n",
    "from math import radians, cos, sin, asin, sqrt\n",
    "import bs4\n",
    "import matplotlib.pyplot as plt\n",
    "import pandas as pd\n",
    "import geopandas as gpd\n",
    "import requests\n",
    "import sqlalchemy as db\n",
    "import pyarrow.parquet as pq\n",
    "import re\n",
    "import numpy as np\n",
    "import sys\n",
    "import warnings\n",
    "from tqdm import tqdm\n",
    "import scipy.stats as st\n",
    "from shapely.geometry import Point\n",
    "from matplotlib.animation import FuncAnimation\n",
    "warnings.filterwarnings(\"ignore\")"
   ]
  },
  {
   "cell_type": "code",
   "execution_count": 2,
   "metadata": {},
   "outputs": [
    {
     "name": "stdout",
     "output_type": "stream",
     "text": [
      "Requirement already satisfied: pyarrow in /Users/lzy/opt/anaconda3/lib/python3.8/site-packages (10.0.1)\n",
      "Requirement already satisfied: numpy>=1.16.6 in /Users/lzy/opt/anaconda3/lib/python3.8/site-packages (from pyarrow) (1.19.5)\n",
      "Requirement already satisfied: geopandas in /Users/lzy/opt/anaconda3/lib/python3.8/site-packages (0.12.1)\n",
      "Requirement already satisfied: pyproj>=2.6.1.post1 in /Users/lzy/opt/anaconda3/lib/python3.8/site-packages (from geopandas) (3.4.0)\n",
      "Requirement already satisfied: packaging in /Users/lzy/opt/anaconda3/lib/python3.8/site-packages (from geopandas) (20.4)\n",
      "Requirement already satisfied: fiona>=1.8 in /Users/lzy/opt/anaconda3/lib/python3.8/site-packages (from geopandas) (1.8.22)\n",
      "Requirement already satisfied: pandas>=1.0.0 in /Users/lzy/opt/anaconda3/lib/python3.8/site-packages (from geopandas) (1.1.5)\n",
      "Requirement already satisfied: shapely>=1.7 in /Users/lzy/opt/anaconda3/lib/python3.8/site-packages (from geopandas) (1.8.5.post1)\n",
      "Requirement already satisfied: certifi in /Users/lzy/opt/anaconda3/lib/python3.8/site-packages (from pyproj>=2.6.1.post1->geopandas) (2020.6.20)\n",
      "Requirement already satisfied: six in /Users/lzy/opt/anaconda3/lib/python3.8/site-packages (from packaging->geopandas) (1.15.0)\n",
      "Requirement already satisfied: pyparsing>=2.0.2 in /Users/lzy/opt/anaconda3/lib/python3.8/site-packages (from packaging->geopandas) (2.4.7)\n",
      "Requirement already satisfied: setuptools in /Users/lzy/opt/anaconda3/lib/python3.8/site-packages (from fiona>=1.8->geopandas) (65.4.1)\n",
      "Requirement already satisfied: attrs>=17 in /Users/lzy/opt/anaconda3/lib/python3.8/site-packages (from fiona>=1.8->geopandas) (19.3.0)\n",
      "Requirement already satisfied: munch in /Users/lzy/opt/anaconda3/lib/python3.8/site-packages (from fiona>=1.8->geopandas) (2.5.0)\n",
      "Requirement already satisfied: cligj>=0.5 in /Users/lzy/opt/anaconda3/lib/python3.8/site-packages (from fiona>=1.8->geopandas) (0.7.2)\n",
      "Requirement already satisfied: click>=4.0 in /Users/lzy/opt/anaconda3/lib/python3.8/site-packages (from fiona>=1.8->geopandas) (7.1.2)\n",
      "Requirement already satisfied: click-plugins>=1.0 in /Users/lzy/opt/anaconda3/lib/python3.8/site-packages (from fiona>=1.8->geopandas) (1.1.1)\n",
      "Requirement already satisfied: pytz>=2017.2 in /Users/lzy/opt/anaconda3/lib/python3.8/site-packages (from pandas>=1.0.0->geopandas) (2020.1)\n",
      "Requirement already satisfied: python-dateutil>=2.7.3 in /Users/lzy/opt/anaconda3/lib/python3.8/site-packages (from pandas>=1.0.0->geopandas) (2.8.1)\n",
      "Requirement already satisfied: numpy>=1.15.4 in /Users/lzy/opt/anaconda3/lib/python3.8/site-packages (from pandas>=1.0.0->geopandas) (1.19.5)\n"
     ]
    }
   ],
   "source": [
    "# any general notebook setup, like log formatting\n",
    "!pip install pyarrow\n",
    "!pip install geopandas"
   ]
  },
  {
   "cell_type": "code",
   "execution_count": 3,
   "metadata": {},
   "outputs": [],
   "source": [
    "#urls\n",
    "TAXI_URL = \"https://www.nyc.gov/site/tlc/about/tlc-trip-record-data.page\"\n",
    "\n",
    "#local csvs\n",
    "UBER_DATA = \"uber_rides_sample.csv\"\n",
    "WEATHER_CSV = [\"2015_weather.csv\",\"2014_weather.csv\",\"2013_weather.csv\",\"2012_weather.csv\",\"2011_weather.csv\",\"2010_weather.csv\",\"2009_weather.csv\"]\n",
    "\n",
    "#coords\n",
    "NEW_YORK_BOX_COORDS = ((40.560445, -74.242330), (40.908524, -73.717047))\n",
    "\n",
    "DATABASE_URL = \"sqlite:///project.db\"\n",
    "DATABASE_SCHEMA_FILE = \"schema.sql\"\n",
    "QUERY_DIRECTORY = \"queries\""
   ]
  },
  {
   "cell_type": "markdown",
   "metadata": {},
   "source": [
    "## Part 1: Data Preprocessing"
   ]
  },
  {
   "cell_type": "markdown",
   "metadata": {},
   "source": [
    "### Calculating distance\n",
    "_**TODO:** To find the trip distance by transfering coordinates (degrees) into the distance in kilometers._\n",
    "\n",
    "_**step1:** get the latitude and longitude from the coordinates and transfer from degrees to radians._\n",
    "\n",
    "_**step2:** get the distance of two latitudes and longitudes from step1._\n",
    "\n",
    "_**step3:** import the results from step2 into the formal equation of calculating distance._\n",
    "\n",
    "_**step4:** import a new column \"distance\" into the dataframe with the result of step3._\n",
    "\n",
    "_NOTE: suppose the radius of earth in kilometers is 6378._"
   ]
  },
  {
   "cell_type": "code",
   "execution_count": 4,
   "metadata": {},
   "outputs": [],
   "source": [
    "def calculate_distance(from_coord: pd.core.frame.DataFrame, to_coord: pd.core.frame.DataFrame) -> pd.core.series.Series:\n",
    "    \"\"\"\n",
    "    Calculate the trip distance between the pick up and drop off locations.\n",
    "    \n",
    "    Arguments:\n",
    "    from_coord\n",
    "    to_coord\n",
    "    \n",
    "    Returns:\n",
    "    distances in series\n",
    "    \n",
    "    \"\"\"\n",
    "    \n",
    "    #step1:get the latitude and longitude from the coordinates and transfer from degrees to radians.\n",
    "    pick_lat = from_coord[\"pickup_latitude\"].map(radians)\n",
    "    pick_long = from_coord[\"pickup_longitude\"].map(radians)\n",
    "    drop_lat = to_coord[\"dropoff_latitude\"].map(radians)\n",
    "    drop_long = to_coord[\"dropoff_longitude\"].map(radians)\n",
    "    \n",
    "    #step2: get the distance of two latitudes and longitudes from step1.\n",
    "    distance_long = pick_long - drop_long\n",
    "    distance_lat = pick_lat - drop_lat\n",
    "    \n",
    "    #step3: import the results from step2 into the formal equation of calculating distance.\n",
    "    x = ((distance_lat / 2).map(sin))**2 + (pick_lat).map(cos) * (drop_lat).map(cos) * ((distance_long / 2).map(sin))**2\n",
    "    c = 2 * (x.map(sqrt)).map(asin)\n",
    "    r = 6378 # Radius of earth in kilometers\n",
    "    \n",
    "    return c*r\n"
   ]
  },
  {
   "cell_type": "code",
   "execution_count": 5,
   "metadata": {},
   "outputs": [],
   "source": [
    "def add_distance_column(dataframe: pd.core.frame.DataFrame) -> pd.core.frame.DataFrame:\n",
    "    \"\"\"\n",
    "    Add a new column 'distance' to the dataframe.\n",
    "    \n",
    "    Arguments:\n",
    "    dataframe\n",
    "    \n",
    "    Returns:\n",
    "    dataframe\n",
    "    \n",
    "    \"\"\"\n",
    "    #step4: import a new column \"distance\" into the dataframe with the result of step3.\n",
    "    from_coord = dataframe[[\"pickup_latitude\",\"pickup_longitude\"]]\n",
    "    to_coord = dataframe[[\"dropoff_latitude\",\"dropoff_longitude\"]]\n",
    "    \n",
    "    dataframe[\"distance\"] = calculate_distance(from_coord, to_coord)\n",
    "    dataframe[\"distance\"] = dataframe[\"distance\"].astype(\"float32\")\n",
    "    \n",
    "    # remove distance = 0\n",
    "    dataframe = dataframe[dataframe['distance']>0.000001]\n",
    "    return dataframe"
   ]
  },
  {
   "cell_type": "markdown",
   "metadata": {},
   "source": [
    "### Processing Taxi Data\n",
    "\n",
    "_**TODO:** Downloand, Clean, and Sample Yellow Taxi Trip Records._\n",
    "\n",
    "_**step1:** get source data from the website: 78 \"Yellow Taxi Trip Records\" parquet files (from 2009.01 to 2015.06)._\n",
    "\n",
    "_**step2:** upzip taxi_zones file._\n",
    "\n",
    "_**step3:** Clean data: normalize column names, remove unneccessary columns and data points by requirements, standardize the data type._\n",
    "            \n",
    "_**step4:** Sample data: according to the 200,000 samples in uber data, each month we select 2564 samples from the taxi data. （200,000/78）_\n",
    "\n",
    "_**step5:** Create a gigantic dataframe combining cleaned data in every month._"
   ]
  },
  {
   "cell_type": "code",
   "execution_count": 6,
   "metadata": {},
   "outputs": [],
   "source": [
    "def find_taxi_parquet_links() -> list:\n",
    "    \"\"\"\n",
    "    Get all required URLs\n",
    "    \n",
    "    Argument:\n",
    "    None\n",
    "    \n",
    "    Returns:\n",
    "    list of links\n",
    "    \n",
    "    \"\"\"\n",
    "    \n",
    "    response = requests.get(TAXI_URL)\n",
    "    html = response.content\n",
    "    soup = bs4.BeautifulSoup(html, \"html.parser\") # Use BeautifulSoup to \"pretty\"-print the HTML we downloaded\n",
    "    yellow_a_tags = soup.find_all(\"a\", attrs={\"title\": \"Yellow Taxi Trip Records\"})\n",
    "    result = [a[\"href\"] for a in yellow_a_tags]\n",
    "    \n",
    "    # Only get the links for yellow taxi data between 2009-01 and 2015-06 by re\n",
    "    pattern = re.compile(\n",
    "    r\"yellow_tripdata_20((15-0([1-6]))|(09-(\\d{2}))|(1[0-4]-(\\d{2}))).parquet\"\n",
    "    )\n",
    "    links = []\n",
    "    for link in result:\n",
    "        match = pattern.search(link)\n",
    "        if match:\n",
    "            links.append(match.string) \n",
    "    return links"
   ]
  },
  {
   "cell_type": "code",
   "execution_count": 7,
   "metadata": {},
   "outputs": [],
   "source": [
    "def get_and_clean_month_taxi_data(url: str) -> pd.core.frame.DataFrame:\n",
    "    \"\"\"\n",
    "    Get cleaned required taxi data\n",
    "    \n",
    "    Arguments:\n",
    "    url\n",
    "    \n",
    "    Returns:\n",
    "    Dataframe of cleaned and sampled monthly taxi data\n",
    "    \n",
    "    \"\"\"\n",
    "\n",
    "    df = pd.read_parquet(url) \n",
    "\n",
    "    taxi_zones = gpd.read_file(filename='taxi_zones.zip', engine='fiona')\n",
    "    taxi_zones = taxi_zones.to_crs(4326)\n",
    "    # Extract x, y in the center coordinates as longitude and latitude\n",
    "    taxi_zones['longitude'] = taxi_zones.centroid.x \n",
    "    taxi_zones['latitude'] = taxi_zones.centroid.y\n",
    "\n",
    "    # Convert PULocationID and DOLocationID to pickup_latitude, pickup_longitude, dropoff_latitude, and dropoff_longitude\n",
    "    if 'PULocationID' in df.columns:\n",
    "        df['pickup_latitude'] = df['PULocationID'].map(taxi_zones['latitude'])\n",
    "        df['pickup_longitude'] = df['PULocationID'].map(taxi_zones['longitude'])\n",
    "    if 'DOLocationID' in df.columns:\n",
    "        df['dropoff_latitude'] = df['DOLocationID'].map(taxi_zones['latitude'])\n",
    "        df['dropoff_longitude'] = df['DOLocationID'].map(taxi_zones['longitude'])\n",
    "        \n",
    "    # Set all column names to lower case    \n",
    "    df = df.rename(columns=str.lower)\n",
    "    \n",
    "    # Normalize column names\n",
    "    df.rename(columns={'tpep_pickup_datetime':'pickup_datetime','trip_pickup_datetime':'pickup_datetime',\n",
    "                       'tpep_dropoff_datetime':'dropoff_datetime','trip_dropoff_datetime':'dropoff_datetime',\n",
    "                       'start_lon':'pickup_longitude', 'start_lat':'pickup_latitude', \n",
    "                       'end_lon':'dropoff_longitude', 'end_lat':'dropoff_latitude','tip_amt':'tip_amount'}, inplace=True)\n",
    "    \n",
    "    # Remove invalid data points\n",
    "    df.dropna(subset=['pickup_latitude','pickup_longitude','dropoff_latitude','dropoff_longitude','tip_amount'],inplace=True)\n",
    "    df = df[df['passenger_count'] >= 1]\n",
    "    \n",
    "    # Remove unnecessary columns\n",
    "    df = df[['pickup_datetime','pickup_longitude','pickup_latitude','dropoff_longitude','dropoff_latitude','tip_amount']]\n",
    "\n",
    "    # Remove trips that start and/or end outside the designated coordinate box (NEW_YORK_BOX_COORDS)\n",
    "    df = df[(df['pickup_latitude'] >= NEW_YORK_BOX_COORDS[0][0]) & (df['pickup_latitude'] <= NEW_YORK_BOX_COORDS[1][0])\n",
    "            & (df['pickup_longitude'] >= NEW_YORK_BOX_COORDS[0][1]) & (df['pickup_longitude'] <= NEW_YORK_BOX_COORDS[1][1])]\n",
    "    df = df[(df['dropoff_latitude'] >= NEW_YORK_BOX_COORDS[0][0]) & (df['dropoff_latitude'] <= NEW_YORK_BOX_COORDS[1][0])\n",
    "            & (df['dropoff_longitude'] >= NEW_YORK_BOX_COORDS[0][1]) & (df['dropoff_longitude'] <= NEW_YORK_BOX_COORDS[1][1])]\n",
    "\n",
    "\n",
    "    # Sample data: according to the 200,000 samples in uber data, \n",
    "    # each month we select 2564 samples from the taxi data \n",
    "    # so the total sample of taxi data is approximately equal to 200,000. \n",
    "    df = df.sample(n=2564)\n",
    "    \n",
    "    # Use appropriate type for each column\n",
    "    df = df.reset_index(drop=True)\n",
    "    df['pickup_datetime'] = pd.to_datetime(df['pickup_datetime'])\n",
    "    df.iloc[:,1:7] = df.iloc[:,1:7].astype(\"float32\")\n",
    "    \n",
    "    return df"
   ]
  },
  {
   "cell_type": "code",
   "execution_count": 8,
   "metadata": {},
   "outputs": [],
   "source": [
    "def get_and_clean_taxi_data() -> pd.core.frame.DataFrame:\n",
    "    \"\"\"\n",
    "    Get cleaned required taxi data.\n",
    "    \n",
    "    Arguments:\n",
    "    None\n",
    "    \n",
    "    Returns:\n",
    "    Dataframe of cleaned taxi data\n",
    "    \n",
    "    \"\"\"\n",
    "    all_taxi_dataframes = []\n",
    "    \n",
    "    all_parquet_urls = find_taxi_parquet_links()\n",
    "    for parquet_url in tqdm(all_parquet_urls):\n",
    "        dataframe = get_and_clean_month_taxi_data(parquet_url)\n",
    "        add_distance_column(dataframe)\n",
    "        \n",
    "        all_taxi_dataframes.append(dataframe)\n",
    "        \n",
    "    # create one gigantic dataframe with data from every month needed\n",
    "    taxi_data = pd.concat(all_taxi_dataframes)\n",
    "        \n",
    "    return taxi_data"
   ]
  },
  {
   "cell_type": "markdown",
   "metadata": {},
   "source": [
    "### Processing Uber Data\n",
    "\n",
    "_**TODO:** Get cleaned Uber Rides Sample records._\n",
    "\n",
    "_**step1:** Remove unneccessary columns and data points by requirements, standardize the data type._\n",
    "            \n",
    "_**step2:** Create a dataframe with cleaned datapoints._"
   ]
  },
  {
   "cell_type": "code",
   "execution_count": 9,
   "metadata": {},
   "outputs": [],
   "source": [
    "def load_and_clean_uber_data(csv_file: str) -> pd.core.frame.DataFrame:\n",
    "    \"\"\"\n",
    "    Get the cleaned uber data.\n",
    "    \n",
    "    Arguments:\n",
    "    None\n",
    "    \n",
    "    Returns:\n",
    "    dataframe of cleaned uber data\n",
    "    \n",
    "    \"\"\"\n",
    "    df = pd.read_csv(csv_file)\n",
    "    \n",
    "    # Remove unnecessary columns\n",
    "    df = df[['pickup_datetime','pickup_longitude','pickup_latitude','dropoff_longitude','dropoff_latitude']]\n",
    "    \n",
    "    # Remove trips that start and/or end outside the designated coordinate box (NEW_YORK_BOX_COORDS)\n",
    "    df = df[(df['pickup_latitude'] >= NEW_YORK_BOX_COORDS[0][0]) & (df['pickup_latitude'] <= NEW_YORK_BOX_COORDS[1][0])\n",
    "            & (df['pickup_longitude'] >= NEW_YORK_BOX_COORDS[0][1]) & (df['pickup_longitude'] <= NEW_YORK_BOX_COORDS[1][1])]\n",
    "    \n",
    "    # Use appropriate type for each column\n",
    "    df['pickup_datetime'] = pd.to_datetime(df['pickup_datetime'])\n",
    "    df.iloc[:,1:5] = df.iloc[:,1:5].astype(\"float32\")\n",
    "    return df"
   ]
  },
  {
   "cell_type": "code",
   "execution_count": 10,
   "metadata": {},
   "outputs": [],
   "source": [
    "def get_uber_data() -> pd.core.frame.DataFrame:\n",
    "    \"\"\"\n",
    "    Add a new column 'distance' to the dataframe.\n",
    "    \n",
    "    Arguments:\n",
    "    None\n",
    "    \n",
    "    Returns:\n",
    "    dataframe\n",
    "    \n",
    "    \"\"\"\n",
    "    uber_dataframe = load_and_clean_uber_data(UBER_DATA)\n",
    "    add_distance_column(uber_dataframe)\n",
    "    return uber_dataframe"
   ]
  },
  {
   "cell_type": "markdown",
   "metadata": {},
   "source": [
    "### Processing Weather Data\n",
    "\n",
    "_**TODO:** Get cleaned Weather data records by creating two dataFrames: one for required hourly data, and one for the required daily data._\n",
    "\n",
    "_**step1:** Normalize the columns, remove unneccessary columns and data points by requirements, standardize the data type, and fillout the required blanks._\n",
    "            \n",
    "_**step2:** Create two required dataframes with cleaned datapoints._"
   ]
  },
  {
   "cell_type": "code",
   "execution_count": 11,
   "metadata": {},
   "outputs": [],
   "source": [
    "def clean_month_weather_data_hourly(csv_file: str) -> pd.core.frame.DataFrame:\n",
    "    \"\"\"\n",
    "    Clean the weather data from the source.\n",
    "    \n",
    "    Arguments:\n",
    "    csv_file\n",
    "    \n",
    "    Returns:\n",
    "    dataframe of cleaned hourly weather data\n",
    "    \n",
    "    \"\"\"\n",
    "    \n",
    "    df = pd.read_csv(csv_file)\n",
    "    \n",
    "    # Get the required columns\n",
    "    df = df[[\"DATE\",\"HourlyPrecipitation\", \"HourlyWindSpeed\"]]\n",
    "    \n",
    "    # Normalize the 'Precipitation' columns into numeric form (dtype: float32) and fillout the blank with value 0\n",
    "    df[\"HourlyPrecipitation\"].fillna(value = 0, inplace = True) # assume HourlyPrecipitation is 0 if the value is NaN\n",
    "    df[df[\"HourlyPrecipitation\"]==\"T\"] = float(0.00001) # T is trivial, so use 0.00001 to replace T\n",
    "    df[df[\"HourlyPrecipitation\"]==\"M\"] = np.nan # M represents missing value, so leave NaN here\n",
    "    df['HourlyPrecipitation'] = pd.to_numeric(df['HourlyPrecipitation'], errors = \"coerce\") \n",
    "    \n",
    "    # Fill out the missing blank for 'WindSpeed' with 0\n",
    "    df[\"HourlyWindSpeed\"].fillna(value = 0, inplace = True) # assume WindSpeed is 0 if the value is NaN\n",
    "    \n",
    "    # Normalize the 'DATE' columns into datetime form\n",
    "    df[\"DATE\"] = pd.to_datetime(df[\"DATE\"])\n",
    "    df = df.astype({\"HourlyWindSpeed\":\"int8\",\"HourlyPrecipitation\":\"float32\"})\n",
    "    \n",
    "    return df"
   ]
  },
  {
   "cell_type": "code",
   "execution_count": 12,
   "metadata": {},
   "outputs": [],
   "source": [
    "def clean_month_weather_data_daily(csv_file: str) -> pd.core.frame.DataFrame:\n",
    "    \"\"\"\n",
    "    Limit the dataframe by day and clean the daily weather data from source.\n",
    "    \n",
    "    Arguments:\n",
    "    csv_file\n",
    "    \n",
    "    Returns:\n",
    "    dataframe of cleaned daily weather data\n",
    "    \n",
    "    \"\"\"\n",
    "    df = clean_month_weather_data_hourly(csv_file)\n",
    "    df['DATE'] = pd.to_datetime(df['DATE'], errors='coerce').dt.date\n",
    "    \n",
    "    #Find the average daily wind speed by calculating the mean of hourly wind speed\n",
    "    df_windspeed = df.groupby('DATE')['HourlyWindSpeed'].mean()\n",
    "    \n",
    "    #Find the daily precipitation by calculating the sum of hourly precipitation\n",
    "    df_precipitation = df.groupby('DATE')['HourlyPrecipitation'].sum()\n",
    "    \n",
    "    #Merge the above two dataframe by date\n",
    "    df = pd.merge(df_windspeed,df_precipitation,on='DATE')\n",
    "    \n",
    "    #Update the column name\n",
    "    df = df.rename(columns={'HourlyWindSpeed': 'DailyWindSpeed', 'HourlyPrecipitation': 'DailyPrecipitation'})\n",
    "    \n",
    "    #Normalize the column type\n",
    "    df = df.astype({\"DailyWindSpeed\":\"int8\",\"DailyPrecipitation\":\"float32\"})\n",
    "    df = df.reset_index()\n",
    "    return df"
   ]
  },
  {
   "cell_type": "code",
   "execution_count": 13,
   "metadata": {},
   "outputs": [],
   "source": [
    "def load_and_clean_weather_data() -> pd.core.frame.DataFrame:\n",
    "    \"\"\"\n",
    "    Clean the weather data and create two dataframes\n",
    "    \n",
    "    Arguments:\n",
    "    weather_csv_files\n",
    "    \n",
    "    Returns:\n",
    "    Dataframe of hourly and daily weather data\n",
    "    \n",
    "    \"\"\"\n",
    "    hourly_dataframes = []\n",
    "    daily_dataframes = []\n",
    "    \n",
    "    # add the name manually\n",
    "    weather_csv_files = [\"2015_weather.csv\",\"2014_weather.csv\",\"2013_weather.csv\",\"2012_weather.csv\",\"2011_weather.csv\",\"2010_weather.csv\",\"2009_weather.csv\"]\n",
    "    \n",
    "    for csv_file in tqdm(weather_csv_files):\n",
    "        hourly_dataframe = clean_month_weather_data_hourly(csv_file)\n",
    "        daily_dataframe = clean_month_weather_data_daily(csv_file)\n",
    "        hourly_dataframes.append(hourly_dataframe)\n",
    "        daily_dataframes.append(daily_dataframe)\n",
    "        \n",
    "    # create two dataframes with hourly & daily data from every month\n",
    "    hourly_data = pd.concat(hourly_dataframes)\n",
    "    daily_data = pd.concat(daily_dataframes)\n",
    "    \n",
    "    return hourly_data, daily_data"
   ]
  },
  {
   "cell_type": "markdown",
   "metadata": {},
   "source": [
    "### Process All Data\n",
    "\n",
    "_**TODO:** get final cleaned data for Yellow Taxi, Uber, and Weather._"
   ]
  },
  {
   "cell_type": "code",
   "execution_count": 14,
   "metadata": {},
   "outputs": [
    {
     "name": "stderr",
     "output_type": "stream",
     "text": [
      "100%|██████████| 78/78 [48:39<00:00, 37.43s/it]\n"
     ]
    }
   ],
   "source": [
    "taxi_data = get_and_clean_taxi_data()"
   ]
  },
  {
   "cell_type": "code",
   "execution_count": 15,
   "metadata": {},
   "outputs": [],
   "source": [
    "uber_data = get_uber_data()"
   ]
  },
  {
   "cell_type": "code",
   "execution_count": 16,
   "metadata": {},
   "outputs": [
    {
     "name": "stderr",
     "output_type": "stream",
     "text": [
      "100%|██████████| 7/7 [00:01<00:00,  5.05it/s]\n"
     ]
    }
   ],
   "source": [
    "hourly_weather_data, daily_weather_data = load_and_clean_weather_data()"
   ]
  },
  {
   "cell_type": "markdown",
   "metadata": {},
   "source": [
    "## Part 2: Storing Cleaned Data\n",
    "\n",
    "_**TODO:** Store the cleaned data into the SCHEMA.SQL file by creating tables for each data set using SQL._"
   ]
  },
  {
   "cell_type": "code",
   "execution_count": 17,
   "metadata": {},
   "outputs": [],
   "source": [
    "engine = db.create_engine(DATABASE_URL)"
   ]
  },
  {
   "cell_type": "code",
   "execution_count": 18,
   "metadata": {},
   "outputs": [
    {
     "data": {
      "text/plain": [
       "<sqlalchemy.engine.result.ResultProxy at 0x7fb5692581f0>"
      ]
     },
     "execution_count": 18,
     "metadata": {},
     "output_type": "execute_result"
    }
   ],
   "source": [
    "# if rerun the entire file, drop these tables first to avoid inserting data repeatly\n",
    "engine.execute(\"DROP TABLE hourly_weather\")"
   ]
  },
  {
   "cell_type": "code",
   "execution_count": 19,
   "metadata": {},
   "outputs": [
    {
     "data": {
      "text/plain": [
       "<sqlalchemy.engine.result.ResultProxy at 0x7fb569258eb0>"
      ]
     },
     "execution_count": 19,
     "metadata": {},
     "output_type": "execute_result"
    }
   ],
   "source": [
    "engine.execute(\"DROP TABLE daily_weather\")"
   ]
  },
  {
   "cell_type": "code",
   "execution_count": 20,
   "metadata": {},
   "outputs": [
    {
     "data": {
      "text/plain": [
       "<sqlalchemy.engine.result.ResultProxy at 0x7fb57b989580>"
      ]
     },
     "execution_count": 20,
     "metadata": {},
     "output_type": "execute_result"
    }
   ],
   "source": [
    "engine.execute(\"DROP TABLE taxi_trips\")"
   ]
  },
  {
   "cell_type": "code",
   "execution_count": 21,
   "metadata": {},
   "outputs": [
    {
     "data": {
      "text/plain": [
       "<sqlalchemy.engine.result.ResultProxy at 0x7fb57b989f40>"
      ]
     },
     "execution_count": 21,
     "metadata": {},
     "output_type": "execute_result"
    }
   ],
   "source": [
    "engine.execute(\"DROP TABLE uber_trips\")"
   ]
  },
  {
   "cell_type": "code",
   "execution_count": 22,
   "metadata": {},
   "outputs": [],
   "source": [
    "#create required tables\n",
    "HOURLY_WEATHER_SCHEMA = \"\"\"\n",
    "CREATE TABLE IF NOT EXISTS hourly_weather\n",
    "(\n",
    "    id INTEGER PRIMARY KEY,\n",
    "    DATE DATE,\n",
    "    HourlyWindSpeed INTETER,\n",
    "    HourlyPrecipitation FLOAT\n",
    ")\n",
    "\"\"\"\n",
    "\n",
    "DAILY_WEATHER_SCHEMA = \"\"\"\n",
    "CREATE TABLE IF NOT EXISTS daily_weather\n",
    "(\n",
    "    id INTEGER PRIMARY KEY,\n",
    "    DATE DATE,\n",
    "    DailyWindSpeed INTETER,\n",
    "    DailyPrecipitation FLOAT\n",
    ")\n",
    "\"\"\"\n",
    "\n",
    "TAXI_TRIPS_SCHEMA = \"\"\"\n",
    "CREATE TABLE IF NOT EXISTS taxi_trips\n",
    "(\n",
    "    id INTEGER PRIMARY KEY,\n",
    "    pickup_datetime DATE,\n",
    "    pickup_longitude FLOAT,\n",
    "    pickup_latitude FLOAT,\n",
    "    dropoff_longitude FLOAT,\n",
    "    dropoff_latitude FLOAT,\n",
    "    tip_amount FLOAT,\n",
    "    distance FLOAT\n",
    ")\n",
    "\"\"\"\n",
    "\n",
    "UBER_TRIPS_SCHEMA = \"\"\"\n",
    "CREATE TABLE IF NOT EXISTS uber_trips\n",
    "(\n",
    "    id INTEGER PRIMARY KEY,\n",
    "    pickup_datetime DATE,\n",
    "    pickup_longitude FLOAT,\n",
    "    pickup_latitude FLOAT,\n",
    "    dropoff_longitude FLOAT,\n",
    "    dropoff_latitude FLOAT,\n",
    "    distance FLOAT\n",
    ")\n",
    "\"\"\""
   ]
  },
  {
   "cell_type": "code",
   "execution_count": 23,
   "metadata": {},
   "outputs": [],
   "source": [
    "# create the required schema.sql file\n",
    "with open(DATABASE_SCHEMA_FILE, \"w\") as f:\n",
    "    f.write(HOURLY_WEATHER_SCHEMA)\n",
    "    f.write(DAILY_WEATHER_SCHEMA)\n",
    "    f.write(TAXI_TRIPS_SCHEMA)\n",
    "    f.write(UBER_TRIPS_SCHEMA)"
   ]
  },
  {
   "cell_type": "code",
   "execution_count": 25,
   "metadata": {},
   "outputs": [],
   "source": [
    "# create the tables with the schema files\n",
    "with engine.connect() as connection:\n",
    "    pass"
   ]
  },
  {
   "cell_type": "markdown",
   "metadata": {},
   "source": [
    "### Add Data to Database\n",
    "\n",
    "_**TODO:** Add dataframes to corresponding tables._\n"
   ]
  },
  {
   "cell_type": "code",
   "execution_count": 26,
   "metadata": {},
   "outputs": [],
   "source": [
    "def write_dataframes_to_table(table_to_df_dict):\n",
    "    for table, df in table_to_df_dict.items():\n",
    "        df.to_sql(table, con=engine, if_exists=\"append\", index=False)"
   ]
  },
  {
   "cell_type": "code",
   "execution_count": 27,
   "metadata": {},
   "outputs": [],
   "source": [
    "map_table_name_to_dataframe = {\n",
    "    \"taxi_trips\": taxi_data,\n",
    "    \"uber_trips\": uber_data,\n",
    "    \"hourly_weather\": hourly_weather_data,\n",
    "    \"daily_weather\": daily_weather_data,\n",
    "}"
   ]
  },
  {
   "cell_type": "code",
   "execution_count": 28,
   "metadata": {},
   "outputs": [],
   "source": [
    "write_dataframes_to_table(map_table_name_to_dataframe)"
   ]
  },
  {
   "cell_type": "markdown",
   "metadata": {},
   "source": [
    "## Part 3: Understanding the Data"
   ]
  },
  {
   "cell_type": "code",
   "execution_count": 29,
   "metadata": {},
   "outputs": [],
   "source": [
    "#define a function that help write answer of the query to the schema file\n",
    "def write_query_to_file(query: str, outfile: str):\n",
    "    \"\"\"\n",
    "    Write queries to the assigned outfile.\n",
    "    \n",
    "    Arguments:\n",
    "    query\n",
    "    outfile\n",
    "    \n",
    "    Returns:\n",
    "    None\n",
    "    \n",
    "    \"\"\"\n",
    "    with open(QUERY_DIRECTORY + \"/\" + outfile, \"w\") as f:\n",
    "        f.write(query)"
   ]
  },
  {
   "cell_type": "markdown",
   "metadata": {},
   "source": [
    "### Query #1\n",
    "\n",
    "_**TODO:** Find the most popular hour of the day to take a yellow taxi from 01-2009 to 06-2015._"
   ]
  },
  {
   "cell_type": "code",
   "execution_count": 30,
   "metadata": {},
   "outputs": [],
   "source": [
    "QUERY_1 = \"\"\"\n",
    "SELECT strftime(\"%H\", pickup_datetime) AS hours,\n",
    "COUNT(*) AS hour_frequency\n",
    "FROM taxi_trips\n",
    "GROUP BY hours\n",
    "ORDER BY hour_frequency desc\n",
    "\n",
    "\"\"\""
   ]
  },
  {
   "cell_type": "code",
   "execution_count": 31,
   "metadata": {},
   "outputs": [
    {
     "data": {
      "text/plain": [
       "[('19', 12639),\n",
       " ('18', 11871),\n",
       " ('20', 11826),\n",
       " ('21', 11704),\n",
       " ('22', 11144),\n",
       " ('14', 10104),\n",
       " ('23', 9988),\n",
       " ('17', 9760),\n",
       " ('13', 9746),\n",
       " ('12', 9628),\n",
       " ('15', 9558),\n",
       " ('09', 9272),\n",
       " ('11', 9157),\n",
       " ('08', 9060),\n",
       " ('10', 9028),\n",
       " ('16', 8151),\n",
       " ('00', 7952),\n",
       " ('07', 7220),\n",
       " ('01', 5935),\n",
       " ('02', 4412),\n",
       " ('06', 4162),\n",
       " ('03', 3302),\n",
       " ('04', 2413),\n",
       " ('05', 1960)]"
      ]
     },
     "execution_count": 31,
     "metadata": {},
     "output_type": "execute_result"
    }
   ],
   "source": [
    "engine.execute(QUERY_1).fetchall()"
   ]
  },
  {
   "cell_type": "code",
   "execution_count": 32,
   "metadata": {},
   "outputs": [],
   "source": [
    "write_query_to_file(QUERY_1, \"popular_hours_of_taxi.sql\")"
   ]
  },
  {
   "cell_type": "markdown",
   "metadata": {},
   "source": [
    "### Query #2\n",
    "\n",
    "_**TODO:** Find the most popular day of the week to take an uber from 01-2009 to 06-2015._"
   ]
  },
  {
   "cell_type": "code",
   "execution_count": 33,
   "metadata": {},
   "outputs": [],
   "source": [
    "QUERY_2 = \"\"\"\n",
    "SELECT strftime(\"%w\", pickup_datetime) AS days,\n",
    "COUNT(*) AS day_frequency\n",
    "FROM uber_trips\n",
    "GROUP BY days\n",
    "ORDER BY day_frequency desc\n",
    "\n",
    "\"\"\""
   ]
  },
  {
   "cell_type": "code",
   "execution_count": 34,
   "metadata": {},
   "outputs": [
    {
     "data": {
      "text/plain": [
       "[('5', 30223),\n",
       " ('6', 29643),\n",
       " ('4', 29389),\n",
       " ('3', 28381),\n",
       " ('2', 27579),\n",
       " ('0', 25877),\n",
       " ('1', 24733)]"
      ]
     },
     "execution_count": 34,
     "metadata": {},
     "output_type": "execute_result"
    }
   ],
   "source": [
    "engine.execute(QUERY_2).fetchall()"
   ]
  },
  {
   "cell_type": "code",
   "execution_count": 35,
   "metadata": {},
   "outputs": [],
   "source": [
    "write_query_to_file(QUERY_2, \"popular_days_of_uber.sql\")"
   ]
  },
  {
   "cell_type": "markdown",
   "metadata": {},
   "source": [
    "### Query #3\n",
    "\n",
    "_**TODO:** Find the 95% percentile of distance traveled for all hired trips during July 2013._"
   ]
  },
  {
   "cell_type": "code",
   "execution_count": 36,
   "metadata": {},
   "outputs": [],
   "source": [
    "QUERY_3 = \"\"\"\n",
    "WITH hired_trips AS\n",
    "(\n",
    "    SELECT pickup_datetime, distance FROM taxi_trips\n",
    "    WHERE pickup_datetime BETWEEN \"2013-07-01 00:00:00\" AND \"2013-07-31 23:59:59\"\n",
    "    UNION ALL\n",
    "    SELECT pickup_datetime, distance FROM uber_trips\n",
    "    WHERE pickup_datetime BETWEEN \"2013-07-01 00:00:00\" AND \"2013-07-31 23:59:59\"\n",
    ")\n",
    "\n",
    "SELECT distance\n",
    "FROM hired_trips\n",
    "ORDER BY distance desc\n",
    "\n",
    "LIMIT 1\n",
    "OFFSET (SELECT COUNT(*) FROM hired_trips) * 5/100 \n",
    "\n",
    "\"\"\"\n",
    "#if order by descending order, the answer is the 5th percentitle of distance"
   ]
  },
  {
   "cell_type": "code",
   "execution_count": 37,
   "metadata": {},
   "outputs": [
    {
     "data": {
      "text/plain": [
       "[(22.707090377807617,)]"
      ]
     },
     "execution_count": 37,
     "metadata": {},
     "output_type": "execute_result"
    }
   ],
   "source": [
    "engine.execute(QUERY_3).fetchall()"
   ]
  },
  {
   "cell_type": "code",
   "execution_count": 38,
   "metadata": {},
   "outputs": [],
   "source": [
    "write_query_to_file(QUERY_3, \"95_percentile_of_hired_trips.sql\")"
   ]
  },
  {
   "cell_type": "markdown",
   "metadata": {},
   "source": [
    "### Query #4\n",
    "\n",
    "_**TODO 1:** Find the top 10 days with the highest number of hired rides for 2009._\n",
    "\n",
    "_**TODO 2:** Find the average distance for each day._"
   ]
  },
  {
   "cell_type": "code",
   "execution_count": 39,
   "metadata": {},
   "outputs": [],
   "source": [
    "QUERY_4 = \"\"\"\n",
    "WITH hired_trips AS\n",
    "(\n",
    "    SELECT pickup_datetime, distance FROM taxi_trips\n",
    "    WHERE pickup_datetime BETWEEN \"2009-01-01 00:00:00\" AND \"2009-12-31 23:59:59\"\n",
    "    UNION ALL\n",
    "    SELECT pickup_datetime, distance FROM uber_trips\n",
    "    WHERE pickup_datetime BETWEEN \"2009-01-01 00:00:00\" AND \"2009-12-31 23:59:59\"\n",
    ")\n",
    "\n",
    "SELECT DATE(pickup_datetime) AS dates,\n",
    "AVG(distance) AS average_distance,\n",
    "COUNT(*) AS number_of_hired_rides\n",
    "\n",
    "FROM hired_trips\n",
    "\n",
    "GROUP BY dates\n",
    "ORDER BY number_of_hired_rides desc\n",
    "\n",
    "LIMIT 10\n",
    "\n",
    "\"\"\""
   ]
  },
  {
   "cell_type": "code",
   "execution_count": 40,
   "metadata": {},
   "outputs": [
    {
     "data": {
      "text/plain": [
       "[('2009-08-14', 3.3614040570732846, 227),\n",
       " ('2009-12-05', 3.0111892098835336, 224),\n",
       " ('2009-12-11', 3.083078582362352, 221),\n",
       " ('2009-10-23', 2.4188651720064023, 219),\n",
       " ('2009-01-31', 2.7836327709886675, 218),\n",
       " ('2009-03-06', 2.9618412934488534, 213),\n",
       " ('2009-04-18', 3.4440037867409132, 210),\n",
       " ('2009-02-12', 2.964091586871474, 209),\n",
       " ('2009-04-16', 2.799934782033813, 207),\n",
       " ('2009-03-31', 2.9034240476085222, 207)]"
      ]
     },
     "execution_count": 40,
     "metadata": {},
     "output_type": "execute_result"
    }
   ],
   "source": [
    "engine.execute(QUERY_4).fetchall()"
   ]
  },
  {
   "cell_type": "code",
   "execution_count": 41,
   "metadata": {},
   "outputs": [],
   "source": [
    "write_query_to_file(QUERY_4, \"top_ten_days_of_hired_trips.sql\")"
   ]
  },
  {
   "cell_type": "markdown",
   "metadata": {},
   "source": [
    "### Query #5\n",
    "\n",
    "_**TODO 1:** Find the windiest 10 days in 2014._\n",
    "\n",
    "_**TODO 2:** Find the number of hired trips on those windiest 10 days._"
   ]
  },
  {
   "cell_type": "code",
   "execution_count": 42,
   "metadata": {},
   "outputs": [],
   "source": [
    "QUERY_5 = \"\"\"\n",
    "WITH hired_trips AS\n",
    "(\n",
    "    SELECT pickup_datetime AS date\n",
    "    FROM taxi_trips\n",
    "    \n",
    "    UNION ALL\n",
    "    \n",
    "    SELECT pickup_datetime AS date\n",
    "    FROM uber_trips\n",
    ")\n",
    "\n",
    "SELECT DATE(date), COUNT(*) AS number_of_hired_trips\n",
    "FROM hired_trips\n",
    "GROUP BY DATE(date)\n",
    "HAVING DATE(date) IN (\n",
    "SELECT DATE FROM daily_weather \n",
    "WHERE DATE BETWEEN \"2014-01-01\" AND \"2014-12-31\"\n",
    "ORDER BY DailyWindSpeed desc \n",
    "LIMIT 10\n",
    ")\n",
    "\n",
    "\"\"\""
   ]
  },
  {
   "cell_type": "code",
   "execution_count": 43,
   "metadata": {},
   "outputs": [
    {
     "data": {
      "text/plain": [
       "[('2014-01-02', 129),\n",
       " ('2014-01-03', 93),\n",
       " ('2014-01-07', 179),\n",
       " ('2014-02-13', 132),\n",
       " ('2014-03-13', 186),\n",
       " ('2014-03-26', 190),\n",
       " ('2014-03-29', 207),\n",
       " ('2014-12-07', 166),\n",
       " ('2014-12-08', 179),\n",
       " ('2014-12-09', 152)]"
      ]
     },
     "execution_count": 43,
     "metadata": {},
     "output_type": "execute_result"
    }
   ],
   "source": [
    "engine.execute(QUERY_5).fetchall()"
   ]
  },
  {
   "cell_type": "code",
   "execution_count": 44,
   "metadata": {},
   "outputs": [],
   "source": [
    "write_query_to_file(QUERY_5, \"10_windiest_days.sql\")"
   ]
  },
  {
   "cell_type": "markdown",
   "metadata": {},
   "source": [
    "### Query #6\n",
    "\n",
    "_**TODO 1:** Find the number of trips taken each hour from Oct 29, 2012 to Oct 30, 2012, and the week leading up to it,._\n",
    "\n",
    "_**TODO 2:** Find the amount of precipitation and the sustained wind speed for each hour from above days._"
   ]
  },
  {
   "cell_type": "code",
   "execution_count": 45,
   "metadata": {},
   "outputs": [],
   "source": [
    "QUERY_6 = \"\"\"\n",
    "WITH hired_trips AS\n",
    "(\n",
    "    SELECT strftime('%Y-%m-%d %H', pickup_datetime) AS date\n",
    "    FROM taxi_trips\n",
    "    WHERE pickup_datetime BETWEEN \"2012-10-22 00:00:00\" AND \"2012-11-05 23:59:59\"\n",
    "    \n",
    "    UNION ALL\n",
    "    \n",
    "    SELECT strftime('%Y-%m-%d %H', pickup_datetime) AS date\n",
    "    FROM uber_trips\n",
    "    WHERE pickup_datetime BETWEEN \"2012-10-22 00:00:00\" AND \"2012-11-05 23:59:59\"\n",
    ")\n",
    "\n",
    "SELECT strftime('%Y-%m-%d %H', hw.date) AS hour, count(ht.date) AS number_of_hired_trips, hw.HourlyWindSpeed, hw.HourlyPrecipitation\n",
    "FROM hourly_weather hw LEFT JOIN hired_trips ht\n",
    "ON hour = ht.date\n",
    "WHERE hw.date BETWEEN \"2012-10-22 00:00:00\" AND \"2012-11-05 23:59:59\"\n",
    "GROUP BY hour\n",
    "\n",
    "\"\"\""
   ]
  },
  {
   "cell_type": "code",
   "execution_count": 46,
   "metadata": {},
   "outputs": [
    {
     "data": {
      "text/plain": [
       "[('2012-10-22 00', 4, 7, 0.0),\n",
       " ('2012-10-22 01', 0, 5, 0.0),\n",
       " ('2012-10-22 02', 3, 7, 0.0),\n",
       " ('2012-10-22 03', 1, 0, 0.0),\n",
       " ('2012-10-22 04', 0, 0, 0.0),\n",
       " ('2012-10-22 05', 2, 0, 0.0),\n",
       " ('2012-10-22 06', 7, 5, 0.0),\n",
       " ('2012-10-22 07', 7, 3, 0.0),\n",
       " ('2012-10-22 08', 5, 3, 0.0),\n",
       " ('2012-10-22 09', 7, 5, 0.0),\n",
       " ('2012-10-22 10', 4, 0, 0.0),\n",
       " ('2012-10-22 11', 12, 0, 0.0),\n",
       " ('2012-10-22 12', 8, 11, 0.0),\n",
       " ('2012-10-22 13', 13, 0, 0.0),\n",
       " ('2012-10-22 14', 3, 7, 0.0),\n",
       " ('2012-10-22 15', 4, 6, 0.0),\n",
       " ('2012-10-22 16', 10, 3, 0.0),\n",
       " ('2012-10-22 17', 6, 7, 0.0),\n",
       " ('2012-10-22 18', 16, 5, 0.0),\n",
       " ('2012-10-22 19', 7, 5, 0.0),\n",
       " ('2012-10-22 20', 11, 3, 0.0),\n",
       " ('2012-10-22 21', 5, 0, 0.0),\n",
       " ('2012-10-22 22', 14, 3, 0.0),\n",
       " ('2012-10-22 23', 6, 3, 0.0),\n",
       " ('2012-10-23 00', 6, 3, 0.0),\n",
       " ('2012-10-23 01', 1, 0, 0.0),\n",
       " ('2012-10-23 02', 0, 3, 0.0),\n",
       " ('2012-10-23 03', 2, 0, 0.0),\n",
       " ('2012-10-23 04', 0, 3, 0.0),\n",
       " ('2012-10-23 05', 2, 0, 0.0),\n",
       " ('2012-10-23 06', 2, 0, 0.0),\n",
       " ('2012-10-23 07', 7, 0, 0.0),\n",
       " ('2012-10-23 08', 12, 0, 0.0),\n",
       " ('2012-10-23 09', 9, 3, 0.0),\n",
       " ('2012-10-23 10', 10, 0, 0.0),\n",
       " ('2012-10-23 11', 9, 3, 0.0),\n",
       " ('2012-10-23 13', 8, 0, 0.0),\n",
       " ('2012-10-23 14', 11, 0, 0.0),\n",
       " ('2012-10-23 15', 14, 0, 0.0),\n",
       " ('2012-10-23 16', 8, 3, 0.0),\n",
       " ('2012-10-23 18', 11, 5, 0.0),\n",
       " ('2012-10-23 20', 14, 0, 0.019999999552965164),\n",
       " ('2012-10-23 22', 9, 0, 0.009999999776482582),\n",
       " ('2012-10-23 23', 10, 0, 0.0),\n",
       " ('2012-10-24 00', 2, 3, 0.0),\n",
       " ('2012-10-24 01', 4, 6, 0.0),\n",
       " ('2012-10-24 02', 16, 5, 0.0),\n",
       " ('2012-10-24 03', 0, 7, 0.0),\n",
       " ('2012-10-24 04', 0, 7, 0.0),\n",
       " ('2012-10-24 05', 2, 6, 0.0),\n",
       " ('2012-10-24 06', 2, 5, 0.0),\n",
       " ('2012-10-24 07', 4, 5, 0.0),\n",
       " ('2012-10-24 09', 9, 0, 0.0),\n",
       " ('2012-10-24 10', 8, 7, 0.0),\n",
       " ('2012-10-24 11', 7, 7, 0.0),\n",
       " ('2012-10-24 12', 8, 8, 0.0),\n",
       " ('2012-10-24 13', 7, 8, 0.0),\n",
       " ('2012-10-24 14', 6, 6, 0.0),\n",
       " ('2012-10-24 15', 11, 7, 0.0),\n",
       " ('2012-10-24 16', 6, 8, 0.0),\n",
       " ('2012-10-24 17', 10, 5, 0.0),\n",
       " ('2012-10-24 18', 12, 7, 0.0),\n",
       " ('2012-10-24 19', 13, 8, 0.0),\n",
       " ('2012-10-24 20', 28, 0, 0.0),\n",
       " ('2012-10-24 21', 30, 3, 0.0),\n",
       " ('2012-10-24 22', 16, 5, 0.0),\n",
       " ('2012-10-24 23', 10, 0, 0.0),\n",
       " ('2012-10-25 00', 14, 6, 0.0),\n",
       " ('2012-10-25 01', 2, 3, 0.0),\n",
       " ('2012-10-25 02', 8, 3, 0.0),\n",
       " ('2012-10-25 03', 0, 6, 0.0),\n",
       " ('2012-10-25 04', 2, 6, 0.0),\n",
       " ('2012-10-25 05', 2, 0, 0.0),\n",
       " ('2012-10-25 06', 6, 5, 0.0),\n",
       " ('2012-10-25 07', 10, 6, 0.0),\n",
       " ('2012-10-25 08', 13, 5, 0.0),\n",
       " ('2012-10-25 09', 9, 3, 0.0),\n",
       " ('2012-10-25 10', 8, 6, 0.0),\n",
       " ('2012-10-25 11', 7, 0, 0.0),\n",
       " ('2012-10-25 12', 10, 6, 0.0),\n",
       " ('2012-10-25 13', 7, 0, 0.0),\n",
       " ('2012-10-25 14', 4, 5, 0.0),\n",
       " ('2012-10-25 15', 9, 5, 0.0),\n",
       " ('2012-10-25 16', 5, 0, 0.0),\n",
       " ('2012-10-25 17', 8, 3, 0.0),\n",
       " ('2012-10-25 18', 10, 0, 0.0),\n",
       " ('2012-10-25 19', 7, 0, 0.0),\n",
       " ('2012-10-25 20', 18, 3, 0.0),\n",
       " ('2012-10-25 21', 17, 3, 0.0),\n",
       " ('2012-10-25 22', 11, 3, 0.0),\n",
       " ('2012-10-25 23', 20, 0, 0.0),\n",
       " ('2012-10-26 00', 24, 0, 0.0),\n",
       " ('2012-10-26 01', 2, 0, 0.0),\n",
       " ('2012-10-26 02', 5, 0, 0.0),\n",
       " ('2012-10-26 03', 3, 3, 0.0),\n",
       " ('2012-10-26 04', 3, 0, 0.0),\n",
       " ('2012-10-26 05', 2, 0, 0.0),\n",
       " ('2012-10-26 06', 3, 0, 0.0),\n",
       " ('2012-10-26 07', 11, 3, 0.0),\n",
       " ('2012-10-26 08', 5, 3, 0.0),\n",
       " ('2012-10-26 09', 10, 3, 0.0),\n",
       " ('2012-10-26 10', 7, 3, 0.0),\n",
       " ('2012-10-26 11', 8, 3, 0.0),\n",
       " ('2012-10-26 12', 4, 0, 0.0),\n",
       " ('2012-10-26 13', 10, 3, 0.0),\n",
       " ('2012-10-26 14', 11, 3, 0.0),\n",
       " ('2012-10-26 15', 6, 0, 0.0),\n",
       " ('2012-10-26 16', 5, 0, 0.0),\n",
       " ('2012-10-26 17', 11, 0, 0.0),\n",
       " ('2012-10-26 18', 6, 0, 0.0),\n",
       " ('2012-10-26 19', 13, 0, 0.0),\n",
       " ('2012-10-26 20', 17, 3, 0.0),\n",
       " ('2012-10-26 21', 8, 3, 0.0),\n",
       " ('2012-10-26 22', 12, 0, 0.0),\n",
       " ('2012-10-26 23', 12, 0, 0.0),\n",
       " ('2012-10-27 00', 8, 3, 0.0),\n",
       " ('2012-10-27 01', 6, 0, 0.0),\n",
       " ('2012-10-27 02', 8, 3, 0.0),\n",
       " ('2012-10-27 03', 9, 0, 0.0),\n",
       " ('2012-10-27 04', 3, 6, 0.0),\n",
       " ('2012-10-27 05', 3, 6, 0.0),\n",
       " ('2012-10-27 06', 4, 6, 0.0),\n",
       " ('2012-10-27 07', 6, 5, 0.0),\n",
       " ('2012-10-27 08', 0, 5, 0.0),\n",
       " ('2012-10-27 09', 8, 6, 0.0),\n",
       " ('2012-10-27 10', 8, 7, 0.0),\n",
       " ('2012-10-27 11', 20, 5, 0.0),\n",
       " ('2012-10-27 12', 7, 8, 0.0),\n",
       " ('2012-10-27 13', 6, 8, 0.0),\n",
       " ('2012-10-27 14', 5, 10, 0.0),\n",
       " ('2012-10-27 15', 9, 10, 0.0),\n",
       " ('2012-10-27 16', 10, 7, 0.0),\n",
       " ('2012-10-27 17', 12, 7, 0.0),\n",
       " ('2012-10-27 18', 14, 7, 0.0),\n",
       " ('2012-10-27 19', 39, 8, 0.0),\n",
       " ('2012-10-27 20', 18, 7, 0.0),\n",
       " ('2012-10-27 21', 8, 9, 0.0),\n",
       " ('2012-10-27 22', 10, 9, 0.0),\n",
       " ('2012-10-27 23', 28, 8, 0.0),\n",
       " ('2012-10-28 00', 15, 11, 0.0),\n",
       " ('2012-10-28 01', 18, 8, 0.0),\n",
       " ('2012-10-28 02', 7, 8, 0.0),\n",
       " ('2012-10-28 03', 8, 9, 0.0),\n",
       " ('2012-10-28 04', 7, 10, 0.0),\n",
       " ('2012-10-28 05', 1, 11, 0.0),\n",
       " ('2012-10-28 06', 0, 10, 0.0),\n",
       " ('2012-10-28 07', 2, 11, 0.0),\n",
       " ('2012-10-28 08', 1, 11, 0.0),\n",
       " ('2012-10-28 09', 9, 11, 0.0),\n",
       " ('2012-10-28 10', 8, 10, 0.0),\n",
       " ('2012-10-28 11', 8, 8, 0.0),\n",
       " ('2012-10-28 12', 5, 7, 0.0),\n",
       " ('2012-10-28 13', 8, 13, 0.0),\n",
       " ('2012-10-28 14', 9, 13, 0.0),\n",
       " ('2012-10-28 15', 12, 13, 0.0),\n",
       " ('2012-10-28 16', 7, 16, 0.0),\n",
       " ('2012-10-28 17', 7, 11, 0.0),\n",
       " ('2012-10-28 18', 8, 15, 0.0),\n",
       " ('2012-10-28 19', 3, 14, 0.0),\n",
       " ('2012-10-28 20', 6, 16, 0.0),\n",
       " ('2012-10-28 21', 3, 14, 0.0),\n",
       " ('2012-10-28 22', 4, 16, 0.0),\n",
       " ('2012-10-28 23', 8, 14, 0.0),\n",
       " ('2012-10-29 00', 1, 16, 0.0),\n",
       " ('2012-10-29 01', 1, 11, 0.0),\n",
       " ('2012-10-29 02', 1, 13, 0.0),\n",
       " ('2012-10-29 03', 0, 17, 0.0),\n",
       " ('2012-10-29 04', 1, 15, 0.0),\n",
       " ('2012-10-29 05', 0, 15, 0.0),\n",
       " ('2012-10-29 06', 1, 16, 0.019999999552965164),\n",
       " ('2012-10-29 07', 2, 17, 0.019999999552965164),\n",
       " ('2012-10-29 09', 1, 16, 0.0),\n",
       " ('2012-10-29 10', 4, 0, 0.0),\n",
       " ('2012-10-29 11', 12, 21, 0.0),\n",
       " ('2012-10-29 12', 45, 15, 0.019999999552965164),\n",
       " ('2012-10-29 13', 3, 24, 0.019999999552965164),\n",
       " ('2012-10-29 14', 12, 23, 0.029999999329447746),\n",
       " ('2012-10-29 15', 8, 26, 0.07000000029802322),\n",
       " ('2012-10-29 16', 0, 23, 0.10000000149011612),\n",
       " ('2012-10-29 17', 4, 29, 0.03999999910593033),\n",
       " ('2012-10-29 18', 6, 21, 0.019999999552965164),\n",
       " ('2012-10-29 19', 0, 25, 0.009999999776482582),\n",
       " ('2012-10-29 21', 1, 15, 0.0),\n",
       " ('2012-10-29 22', 0, 9, 0.019999999552965164),\n",
       " ('2012-10-29 23', 5, 7, 0.029999999329447746),\n",
       " ('2012-10-30 00', 2, 13, 0.029999999329447746),\n",
       " ('2012-10-30 02', 0, 9, 0.029999999329447746),\n",
       " ('2012-10-30 03', 0, 17, 0.03999999910593033),\n",
       " ('2012-10-30 05', 0, 7, 0.009999999776482582),\n",
       " ('2012-10-30 06', 0, 7, 0.009999999776482582),\n",
       " ('2012-10-30 08', 4, 11, 0.009999999776482582),\n",
       " ('2012-10-30 09', 8, 15, 0.009999999776482582),\n",
       " ('2012-10-30 10', 16, 8, 0.019999999552965164),\n",
       " ('2012-10-30 11', 3, 7, 0.0),\n",
       " ('2012-10-30 12', 8, 9, 0.0),\n",
       " ('2012-10-30 13', 12, 7, 0.0),\n",
       " ('2012-10-30 14', 4, 0, 0.0),\n",
       " ('2012-10-30 16', 12, 3, 0.009999999776482582),\n",
       " ('2012-10-30 17', 12, 6, 0.0),\n",
       " ('2012-10-30 18', 6, 5, 0.0),\n",
       " ('2012-10-30 19', 4, 3, 0.0),\n",
       " ('2012-10-30 20', 6, 0, 0.0),\n",
       " ('2012-10-30 21', 4, 5, 0.0),\n",
       " ('2012-10-30 22', 5, 7, 0.0),\n",
       " ('2012-10-30 23', 15, 5, 0.0),\n",
       " ('2012-10-31 01', 1, 5, 0.009999999776482582),\n",
       " ('2012-10-31 03', 0, 8, 0.0),\n",
       " ('2012-10-31 04', 0, 0, 0.0),\n",
       " ('2012-10-31 05', 0, 0, 0.0),\n",
       " ('2012-10-31 06', 3, 6, 0.0),\n",
       " ('2012-10-31 07', 12, 0, 0.0),\n",
       " ('2012-10-31 08', 24, 6, 0.0),\n",
       " ('2012-10-31 09', 4, 6, 0.0),\n",
       " ('2012-10-31 10', 10, 5, 0.0),\n",
       " ('2012-10-31 11', 3, 5, 0.0),\n",
       " ('2012-10-31 12', 4, 9, 0.0),\n",
       " ('2012-10-31 13', 3, 6, 0.0),\n",
       " ('2012-10-31 14', 4, 5, 0.0),\n",
       " ('2012-10-31 15', 6, 3, 0.0),\n",
       " ('2012-10-31 16', 3, 5, 0.0),\n",
       " ('2012-10-31 17', 2, 5, 0.0),\n",
       " ('2012-10-31 18', 11, 3, 0.0),\n",
       " ('2012-10-31 19', 8, 9, 0.0),\n",
       " ('2012-10-31 20', 5, 7, 0.0),\n",
       " ('2012-10-31 21', 4, 7, 0.0),\n",
       " ('2012-10-31 22', 6, 6, 0.0),\n",
       " ('2012-10-31 23', 18, 3, 0.0),\n",
       " ('2012-11-01 00', 5, 3, 0.0),\n",
       " ('2012-11-01 01', 2, 3, 0.0),\n",
       " ('2012-11-01 02', 0, 3, 0.0),\n",
       " ('2012-11-01 03', 3, 0, 0.0),\n",
       " ('2012-11-01 04', 2, 7, 0.0),\n",
       " ('2012-11-01 05', 2, 6, 0.0),\n",
       " ('2012-11-01 06', 2, 13, 0.0),\n",
       " ('2012-11-01 07', 2, 0, 0.0),\n",
       " ('2012-11-01 08', 2, 7, 0.0),\n",
       " ('2012-11-01 09', 2, 3, 0.0),\n",
       " ('2012-11-01 10', 8, 6, 0.0),\n",
       " ('2012-11-01 11', 8, 6, 0.0),\n",
       " ('2012-11-01 12', 8, 11, 0.0),\n",
       " ('2012-11-01 13', 4, 8, 0.0),\n",
       " ('2012-11-01 14', 6, 8, 0.0),\n",
       " ('2012-11-01 15', 4, 0, 0.0),\n",
       " ('2012-11-01 16', 5, 5, 0.0),\n",
       " ('2012-11-01 17', 4, 5, 0.0),\n",
       " ('2012-11-01 18', 9, 9, 0.0),\n",
       " ('2012-11-01 19', 7, 3, 0.0),\n",
       " ('2012-11-01 20', 9, 5, 0.0),\n",
       " ('2012-11-01 21', 3, 8, 0.0),\n",
       " ('2012-11-01 22', 8, 5, 0.0),\n",
       " ('2012-11-01 23', 10, 0, 0.0),\n",
       " ('2012-11-02 00', 4, 5, 0.0),\n",
       " ('2012-11-02 01', 0, 7, 0.0),\n",
       " ('2012-11-02 02', 0, 3, 0.0),\n",
       " ('2012-11-02 03', 1, 3, 0.0),\n",
       " ('2012-11-02 04', 1, 5, 0.0),\n",
       " ('2012-11-02 05', 3, 5, 0.0),\n",
       " ('2012-11-02 06', 5, 6, 0.0),\n",
       " ('2012-11-02 07', 3, 0, 0.0),\n",
       " ('2012-11-02 08', 6, 5, 0.0),\n",
       " ('2012-11-02 09', 0, 7, 0.0),\n",
       " ('2012-11-02 10', 3, 9, 0.0),\n",
       " ('2012-11-02 11', 9, 7, 0.0),\n",
       " ('2012-11-02 12', 3, 7, 0.0),\n",
       " ('2012-11-02 13', 3, 6, 0.0),\n",
       " ('2012-11-02 14', 6, 6, 0.0),\n",
       " ('2012-11-02 15', 6, 5, 0.0),\n",
       " ('2012-11-02 16', 4, 11, 0.0),\n",
       " ('2012-11-02 17', 3, 8, 0.0),\n",
       " ('2012-11-02 18', 8, 9, 0.0),\n",
       " ('2012-11-02 19', 4, 7, 0.0),\n",
       " ('2012-11-02 20', 9, 9, 0.0),\n",
       " ('2012-11-02 21', 12, 7, 0.0),\n",
       " ('2012-11-02 22', 8, 8, 0.0),\n",
       " ('2012-11-02 23', 12, 8, 0.0),\n",
       " ('2012-11-03 00', 9, 7, 0.0),\n",
       " ('2012-11-03 01', 3, 7, 0.0),\n",
       " ('2012-11-03 02', 8, 7, 0.0),\n",
       " ('2012-11-03 03', 3, 7, 0.0),\n",
       " ('2012-11-03 04', 1, 8, 0.0),\n",
       " ('2012-11-03 05', 2, 8, 0.0),\n",
       " ('2012-11-03 06', 2, 7, 0.0),\n",
       " ('2012-11-03 07', 1, 6, 0.0),\n",
       " ('2012-11-03 08', 3, 10, 0.0),\n",
       " ('2012-11-03 09', 4, 13, 0.0),\n",
       " ('2012-11-03 10', 5, 6, 0.0),\n",
       " ('2012-11-03 11', 13, 13, 0.0),\n",
       " ('2012-11-03 12', 9, 13, 0.0),\n",
       " ('2012-11-03 13', 5, 8, 0.0),\n",
       " ('2012-11-03 14', 11, 8, 0.0),\n",
       " ('2012-11-03 15', 8, 7, 0.0),\n",
       " ('2012-11-03 16', 7, 10, 0.0),\n",
       " ('2012-11-03 17', 10, 9, 0.0),\n",
       " ('2012-11-03 18', 14, 9, 0.0),\n",
       " ('2012-11-03 19', 9, 13, 0.0),\n",
       " ('2012-11-03 20', 6, 10, 0.0),\n",
       " ('2012-11-03 21', 13, 9, 0.0),\n",
       " ('2012-11-03 22', 8, 0, 0.0),\n",
       " ('2012-11-03 23', 30, 7, 0.0),\n",
       " ('2012-11-04 00', 12, 9, 0.0),\n",
       " ('2012-11-04 01', 19, 7, 0.0),\n",
       " ('2012-11-04 02', 9, 7, 0.0),\n",
       " ('2012-11-04 03', 2, 7, 0.0),\n",
       " ('2012-11-04 04', 4, 8, 0.0),\n",
       " ('2012-11-04 05', 2, 6, 0.0),\n",
       " ('2012-11-04 06', 0, 6, 0.0),\n",
       " ('2012-11-04 07', 2, 3, 0.0),\n",
       " ('2012-11-04 08', 3, 7, 0.0),\n",
       " ('2012-11-04 09', 1, 9, 0.0),\n",
       " ('2012-11-04 10', 7, 0, 0.0),\n",
       " ('2012-11-04 11', 11, 6, 0.0),\n",
       " ('2012-11-04 12', 12, 8, 0.0),\n",
       " ('2012-11-04 13', 9, 8, 0.0),\n",
       " ('2012-11-04 14', 10, 7, 0.0),\n",
       " ('2012-11-04 15', 7, 7, 0.0),\n",
       " ('2012-11-04 16', 6, 5, 0.0),\n",
       " ('2012-11-04 17', 7, 5, 0.0),\n",
       " ('2012-11-04 18', 7, 0, 0.0),\n",
       " ('2012-11-04 19', 10, 7, 0.0),\n",
       " ('2012-11-04 20', 12, 0, 0.0),\n",
       " ('2012-11-04 21', 8, 7, 0.0),\n",
       " ('2012-11-04 22', 8, 6, 0.0),\n",
       " ('2012-11-04 23', 8, 5, 0.0),\n",
       " ('2012-11-05 00', 2, 0, 0.0),\n",
       " ('2012-11-05 01', 3, 5, 0.0),\n",
       " ('2012-11-05 02', 1, 3, 0.0),\n",
       " ('2012-11-05 03', 1, 7, 0.0),\n",
       " ('2012-11-05 04', 2, 3, 0.0),\n",
       " ('2012-11-05 05', 3, 6, 0.0),\n",
       " ('2012-11-05 06', 5, 8, 0.0),\n",
       " ('2012-11-05 07', 8, 6, 0.0),\n",
       " ('2012-11-05 08', 6, 7, 0.0),\n",
       " ('2012-11-05 09', 9, 3, 0.0),\n",
       " ('2012-11-05 10', 7, 3, 0.0),\n",
       " ('2012-11-05 11', 5, 3, 0.0),\n",
       " ('2012-11-05 12', 5, 5, 0.0),\n",
       " ('2012-11-05 13', 9, 3, 0.0),\n",
       " ('2012-11-05 14', 10, 0, 0.0),\n",
       " ('2012-11-05 15', 3, 8, 0.0),\n",
       " ('2012-11-05 16', 5, 0, 0.0),\n",
       " ('2012-11-05 17', 16, 5, 0.0),\n",
       " ('2012-11-05 18', 13, 5, 0.0),\n",
       " ('2012-11-05 19', 7, 0, 0.0),\n",
       " ('2012-11-05 20', 17, 3, 0.0),\n",
       " ('2012-11-05 21', 12, 7, 0.0),\n",
       " ('2012-11-05 22', 6, 6, 0.0),\n",
       " ('2012-11-05 23', 6, 9, 0.0)]"
      ]
     },
     "execution_count": 46,
     "metadata": {},
     "output_type": "execute_result"
    }
   ],
   "source": [
    "engine.execute(QUERY_6).fetchall()"
   ]
  },
  {
   "cell_type": "code",
   "execution_count": 47,
   "metadata": {},
   "outputs": [],
   "source": [
    "write_query_to_file(QUERY_6, \"trips_precipitation_windspeed.sql\")"
   ]
  },
  {
   "cell_type": "markdown",
   "metadata": {},
   "source": [
    "## Part 4: Visualizing the Data\n"
   ]
  },
  {
   "cell_type": "markdown",
   "metadata": {},
   "source": [
    "### Visualization 1\n",
    "\n",
    "_**TODO:** Create an appropriate visualization for the first query/question in part 3. That is, find the most popular hour of the day to take a yellow taxi from 01-2009 to 06-2015._"
   ]
  },
  {
   "cell_type": "code",
   "execution_count": 48,
   "metadata": {},
   "outputs": [],
   "source": [
    "def plot_visual_1(dataframe):\n",
    "    \"\"\"\n",
    "    Get the most popular hour of the day to take a Yellow Taxi.\n",
    "    \n",
    "    Arguments:\n",
    "    taxi dataframe\n",
    "    \n",
    "    Returns:\n",
    "    None\n",
    "    \n",
    "    \"\"\"\n",
    "    plot_title = \"Total Number of Taxi Trips(Hours)\"\n",
    "    x_label = \"Hours\"\n",
    "    y_label = \"Total Number of Taxi Trips\"\n",
    "    #define the function to create the corresponsing bar chart\n",
    "    dataframe.plot(kind=\"bar\",x=\"hours\", y=\"hour_frequency\", title=plot_title, xlabel=x_label, ylabel=y_label)\n",
    "    return \n"
   ]
  },
  {
   "cell_type": "code",
   "execution_count": 49,
   "metadata": {},
   "outputs": [],
   "source": [
    "def get_data_for_visual_1() -> pd.core.frame.DataFrame:\n",
    "    \"\"\"\n",
    "    Returns:\n",
    "    dataframe\n",
    "    \n",
    "    \"\"\"\n",
    "    #We can get the required data of taxi_trips from the QUERY #1 in Part 3 directly.\n",
    "    dataframe = pd.read_sql_query(QUERY_1, engine)\n",
    "    df = dataframe.sort_values(by = \"hours\", ascending = True)\n",
    "    return df"
   ]
  },
  {
   "cell_type": "code",
   "execution_count": 50,
   "metadata": {},
   "outputs": [
    {
     "data": {
      "image/png": "[encoded data removed]",
      "text/plain": [
       "<Figure size 432x288 with 1 Axes>"
      ]
     },
     "metadata": {
      "needs_background": "light"
     },
     "output_type": "display_data"
    }
   ],
   "source": [
    "dataframe1 = get_data_for_visual_1()\n",
    "plot_visual_1(dataframe1)"
   ]
  },
  {
   "cell_type": "markdown",
   "metadata": {},
   "source": [
    "### Visualization 2\n",
    "\n",
    "_**TODO 1:** Create a visualization that shows the average distance traveled per month (regardless of year - so group by each month)._\n",
    "\n",
    "_**TODO 2:** Include the 90% confidence interval around the mean in the visualization._\n"
   ]
  },
  {
   "cell_type": "code",
   "execution_count": 51,
   "metadata": {},
   "outputs": [],
   "source": [
    "def plot_visual_2(dataframe):\n",
    "    \"\"\"\n",
    "    Get the average distance traveled per month\n",
    "    \n",
    "    Arguments:\n",
    "    dataframe\n",
    "    \n",
    "    Returns:\n",
    "    None\n",
    "    \n",
    "    \"\"\"\n",
    "    plot_title = \"Average Distance Travelled(Month) With 90% Confidence Interval\"\n",
    "    x_label = \"Month\"\n",
    "    y_label = \"Average Distance\"\n",
    "    dataframe.plot(kind=\"bar\",x=\"month\", y=\"mean\", yerr = \"confidence inverval\", title=plot_title, xlabel=x_label, ylabel=y_label)\n",
    "    return"
   ]
  },
  {
   "cell_type": "code",
   "execution_count": 52,
   "metadata": {},
   "outputs": [],
   "source": [
    "def get_data_for_visual_2() -> pd.core.frame.DataFrame:\n",
    "    \"\"\"\n",
    "    Returns:\n",
    "    dataframe\n",
    "    \n",
    "    \"\"\"\n",
    "    # Query SQL database for the data needed.\n",
    "    QUERY_month = \"\"\"\n",
    "    WITH hired_trips AS\n",
    "    (\n",
    "    SELECT pickup_datetime, distance FROM taxi_trips\n",
    "    UNION ALL\n",
    "    SELECT pickup_datetime, distance FROM uber_trips\n",
    "    )\n",
    "    \n",
    "    SELECT strftime(\"%m\", pickup_datetime) month, SUM(distance) as distance_m\n",
    "          FROM hired_trips\n",
    "          GROUP BY strftime(\"%Y-%m\", pickup_datetime)\n",
    "    \n",
    "    \"\"\"\n",
    "    dataframe = pd.read_sql_query(QUERY_month, engine)\n",
    "    data = dataframe.groupby('month') # splite dataframe into 12 subdataframes by using group by month\n",
    "    \n",
    "    m = []\n",
    "    mean = []\n",
    "    cl = []\n",
    "    for x in data.groups:\n",
    "        month = data.get_group(x)\n",
    "        se = st.sem(month['distance_m'])\n",
    "        h = se * st.t.ppf((1 - 0.90) / 2, len(month)-1) # calculate the yerr for each month\n",
    "        \n",
    "        m.append(month['month'].iloc[0])\n",
    "        mean.append(np.mean(month['distance_m']))\n",
    "        cl.append(abs(h))\n",
    "    df = pd.DataFrame({'month': m,'mean': mean,'confidence inverval': cl}) # create a new dataframe contains month, average distance, and yerr\n",
    "    return df"
   ]
  },
  {
   "cell_type": "code",
   "execution_count": 53,
   "metadata": {},
   "outputs": [
    {
     "data": {
      "image/png": "[encoded data removed]",
      "text/plain": [
       "<Figure size 432x288 with 1 Axes>"
      ]
     },
     "metadata": {
      "needs_background": "light"
     },
     "output_type": "display_data"
    }
   ],
   "source": [
    "dataframe2 = get_data_for_visual_2()\n",
    "plot_visual_2(dataframe2)"
   ]
  },
  {
   "cell_type": "markdown",
   "metadata": {},
   "source": [
    "### Visualization 3\n",
    "\n",
    "_**TODO 1:** Define three lat/long coordinate boxes around the three major New York airports: LGA, JFK, and EWR._\n",
    "\n",
    "_**TODO 2:** Create a visualization that compares what day of the week was most popular for drop offs for each airport._\n"
   ]
  },
  {
   "cell_type": "code",
   "execution_count": 54,
   "metadata": {},
   "outputs": [],
   "source": [
    "def plot_visual_3(dataframe):\n",
    "    \"\"\"\n",
    "    Plot the most popular day for drop offs for each airport\n",
    "    \n",
    "    Arguments:\n",
    "    dataframe\n",
    "    \n",
    "    Returns:\n",
    "    None\n",
    "    \n",
    "    \"\"\"\n",
    "    plot_title = \"Number of Trips on Each Day for Each Airport\"\n",
    "    x_label = \"Day\"\n",
    "    y_label = \"Number of trips for both taxi and uber\"\n",
    "    dataframe.plot(kind=\"bar\",x=\"day\", y=[\"LGA\",\"JFK\",\"EWR\"], title=plot_title, xlabel=x_label, ylabel=y_label)\n",
    "    return"
   ]
  },
  {
   "cell_type": "code",
   "execution_count": 55,
   "metadata": {},
   "outputs": [],
   "source": [
    "def get_data_for_visual_3() -> pd.core.frame.DataFrame:\n",
    "    \"\"\"\n",
    "    Returns:\n",
    "    dataframe\n",
    "    \n",
    "    \"\"\"\n",
    "    #the coordinae boxes of three New York airports:\n",
    "    #manually get the estimated value from bboxfinder.com\n",
    "    LGA_BOX_COORDS = (\"LGA\", -73.887830, 40.767336, -73.855815, 40.783066)\n",
    "    JFK_BOX_COORDS = (\"JFK\", -73.829498, 40.621421, -73.743668, 40.670655)\n",
    "    EWR_BOX_COORDS = (\"EWR\", -74.193144, 40.670778, -74.151688, 40.708525)\n",
    "    \n",
    "    BOX_COORDS = [LGA_BOX_COORDS, JFK_BOX_COORDS, EWR_BOX_COORDS]\n",
    "    \n",
    "    table = []\n",
    "    for x in BOX_COORDS:\n",
    "        # Query SQL database for the data needed.\n",
    "        QUERY = f\"\"\"\n",
    "        WITH hired_trips AS(\n",
    "        SELECT pickup_datetime AS date, dropoff_longitude, dropoff_latitude\n",
    "        FROM taxi_trips\n",
    "    \n",
    "        UNION ALL\n",
    "     \n",
    "        SELECT pickup_datetime AS date, dropoff_longitude, dropoff_latitude\n",
    "        FROM uber_trips\n",
    "        )\n",
    "        \n",
    "        SELECT strftime(\"%w\", date) AS day, count(*) AS {x[0]} FROM hired_trips\n",
    "        WHERE dropoff_longitude BETWEEN {x[1]} AND {x[3]}\n",
    "        AND dropoff_latitude BETWEEN {x[2]} AND {x[4]}\n",
    "        GROUP BY day\n",
    "        \"\"\"\n",
    "        table.append(pd.read_sql_query(QUERY, engine))\n",
    "        \n",
    "    df = pd.merge(pd.merge(table[0],table[1],on='day'),table[2],on='day') # merge three dataframes obtained from sql\n",
    "    return df"
   ]
  },
  {
   "cell_type": "code",
   "execution_count": 56,
   "metadata": {},
   "outputs": [
    {
     "data": {
      "image/png": "[encoded data removed]",
      "text/plain": [
       "<Figure size 432x288 with 1 Axes>"
      ]
     },
     "metadata": {
      "needs_background": "light"
     },
     "output_type": "display_data"
    }
   ],
   "source": [
    "dataframe3 = get_data_for_visual_3()\n",
    "plot_visual_3(dataframe3)"
   ]
  },
  {
   "cell_type": "markdown",
   "metadata": {},
   "source": [
    "### Visualization 4\n",
    "\n",
    "_**TODO:** Create a heatmap of all hired trips over a map of the area._\n"
   ]
  },
  {
   "cell_type": "code",
   "execution_count": 57,
   "metadata": {},
   "outputs": [],
   "source": [
    "def plot_visual_4(dataframe):\n",
    "    \"\"\"\"\n",
    "    Plot the heatmap of all hired trips over a map of the area\n",
    "    \n",
    "    Arguments:\n",
    "    geodataframe\n",
    "\n",
    "    \"\"\"\n",
    "    taxi_zones = gpd.read_file(filename='taxi_zones.zip', engine='fiona') # import taxi zones data\n",
    "    taxi_zones = taxi_zones.to_crs(4326)\n",
    "    \n",
    "    # check each points belong to which taxi zones (LocationID) in NYC\n",
    "    merged = gpd.sjoin(dataframe, taxi_zones[['LocationID','geometry']], how='left', op='within') \n",
    "    merged.dropna(subset=['LocationID'],inplace=True) #drop invalid value\n",
    "    \n",
    "    # count the number of trips for each taxi zones\n",
    "    count = merged.groupby('LocationID')['coords'].count()\n",
    "    \n",
    "    # join the count column to taxi_zones\n",
    "    df = pd.merge(taxi_zones, count, on=\"LocationID\")\n",
    "    \n",
    "    df.plot(column='coords', cmap='tab20c', legend=True, markersize = 10)\n",
    "    plt.axis('off')\n",
    "    plt.title('Heatmap for All Hired Trips')\n",
    "    plt.show()\n",
    "    return"
   ]
  },
  {
   "cell_type": "code",
   "execution_count": 58,
   "metadata": {},
   "outputs": [],
   "source": [
    "def get_data_for_visual_4(): -> pd.core.frame.GeoDataFrame:\n",
    "    \"\"\"\n",
    "    Returns:\n",
    "    dataframe\n",
    "    \n",
    "    \"\"\"\n",
    "    # Query SQL database for the data needed.\n",
    "    QUERY = \"\"\"\n",
    "    WITH hired_trips AS(\n",
    "    SELECT pickup_longitude, pickup_latitude\n",
    "    FROM taxi_trips\n",
    "    \n",
    "    UNION ALL\n",
    "     \n",
    "    SELECT pickup_longitude, pickup_latitude\n",
    "    FROM uber_trips\n",
    "    )\n",
    "    \n",
    "    SELECT pickup_longitude, pickup_latitude\n",
    "    FROM hired_trips\n",
    "    \"\"\"\n",
    "    \n",
    "    df = pd.read_sql_query(QUERY, engine)\n",
    "    df.columns = ['longitude', 'latitude']\n",
    "    df['coords'] = list(zip(df['longitude'],df['latitude'])) # conbine longitudes and latitudes in a list of tuple\n",
    "    df['coords'] = df['coords'].apply(Point) # convert to points\n",
    "    points = gpd.GeoDataFrame(df, geometry='coords') # create a new geodataframe\n",
    "    return points"
   ]
  },
  {
   "cell_type": "code",
   "execution_count": 59,
   "metadata": {
    "scrolled": true
   },
   "outputs": [
    {
     "data": {
      "image/png": "[encoded data removed]",
      "text/plain": [
       "<Figure size 432x288 with 2 Axes>"
      ]
     },
     "metadata": {
      "needs_background": "light"
     },
     "output_type": "display_data"
    }
   ],
   "source": [
    "dataframe4 = get_data_for_visual_4()\n",
    "plot_visual_4(dataframe4)"
   ]
  },
  {
   "cell_type": "markdown",
   "metadata": {},
   "source": [
    "### Visualization 5\n",
    "\n",
    "_**TODO:** Create a scatter plot that compares tip amount versus distance._\n"
   ]
  },
  {
   "cell_type": "code",
   "execution_count": 60,
   "metadata": {},
   "outputs": [],
   "source": [
    "def plot_visual_5(dataframe):\n",
    "    \"\"\"\n",
    "    Plot the scatter of tip amount versus distance\n",
    "    \n",
    "    Arguments:\n",
    "    dataframe\n",
    "    \n",
    "    \"\"\"\n",
    "    plot_title = \"Tip Amount Versus Distance\"\n",
    "    x_label = \"Distance\"\n",
    "    y_label = \"Tip Amount\"\n",
    "    dataframe[(dataframe[\"distance\"]>=0) & (dataframe[\"tip_amount\"]>=0)].plot(kind=\"scatter\",x=\"distance\", y=\"tip_amount\", \n",
    "                                                                              title=plot_title, xlabel=x_label, ylabel = y_label, \n",
    "                                                                              alpha = 0.6, lw=0.01)\n",
    "    return"
   ]
  },
  {
   "cell_type": "code",
   "execution_count": 61,
   "metadata": {},
   "outputs": [],
   "source": [
    "def get_data_for_visual_5() -> pd.core.frame.DataFrame:\n",
    "    \"\"\"\n",
    "    Returns:\n",
    "    dataframe\n",
    "    \n",
    "    \"\"\"\n",
    "    QUERY_tip_distance = \"\"\"\n",
    "    SELECT tip_amount, distance\n",
    "    FROM taxi_trips\n",
    "    \"\"\"\n",
    "    dataframe = pd.read_sql_query(QUERY_tip_distance, engine)\n",
    "    return dataframe\n"
   ]
  },
  {
   "cell_type": "code",
   "execution_count": 62,
   "metadata": {},
   "outputs": [
    {
     "data": {
      "image/png": "[encoded data removed]",
      "text/plain": [
       "<Figure size 432x288 with 1 Axes>"
      ]
     },
     "metadata": {
      "needs_background": "light"
     },
     "output_type": "display_data"
    }
   ],
   "source": [
    "dataframe5 = get_data_for_visual_5()\n",
    "plot_visual_5(dataframe5)"
   ]
  },
  {
   "cell_type": "markdown",
   "metadata": {},
   "source": [
    "### Visualization 6\n",
    "\n",
    "_**TODO:** Create another scatter plot that compares tip amount versus precipitation amount for Yellow Taxi rides._\n"
   ]
  },
  {
   "cell_type": "code",
   "execution_count": 63,
   "metadata": {},
   "outputs": [],
   "source": [
    "def plot_visual_6(dataframe):\n",
    "    \"\"\"\n",
    "    Plot the scatter of tip amount versus precipitation amount\n",
    "    \n",
    "    Arguments:\n",
    "    dataframe\n",
    "    \n",
    "    \"\"\"\n",
    "    plot_title = \"Heatmap for All Hired Trips\"\n",
    "    plot_title = \"Tip Amount Versus Precipitation\"\n",
    "    x_label = \"Precipitation\"\n",
    "    y_label = \"Tip Amount\"\n",
    "    # There may exist a confounder between tip amount and precipitation. \n",
    "    # For example, when precipitation = 0, it shows a good weather.\n",
    "    # People may more willing to go outside by uber or taxi, so the number of trips will much larger than that in rainning days, and the total tip amount at sunnyday is large.\n",
    "    # On the contrary, when precipitation is large, people may not willing to hang out, which may result only a few trips in that days, so the total tip amount at the stormy days is relatively low.\n",
    "    # Thus, we cannot drop any outliers only based on tips and precipitation.\n",
    "    dataframe.plot(kind=\"scatter\", x=\"precipitation\", y=\"tips\", title=plot_title, xlabel=x_label, ylabel = y_label, alpha = 0.6, lw=0.01)\n",
    "    return"
   ]
  },
  {
   "cell_type": "code",
   "execution_count": 64,
   "metadata": {},
   "outputs": [],
   "source": [
    "def get_data_for_visual_6() -> pd.core.frame.DataFrame:\n",
    "    \"\"\"\n",
    "    Returns:\n",
    "    dataframe\n",
    "    \n",
    "    \"\"\"\n",
    "    # Query SQL database for the data needed.\n",
    "    QUERY = \"\"\"\n",
    "    SELECT dw.DATE, SUM(tt.tip_amount) AS tips, dw.DailyPrecipitation AS precipitation\n",
    "    FROM taxi_trips tt INNER JOIN daily_weather dw\n",
    "    ON strftime('%Y-%m-%d', tt.pickup_datetime) = dw.DATE\n",
    "    GROUP BY dw.DATE\n",
    "    \"\"\"\n",
    "    \n",
    "    df = pd.read_sql_query(QUERY, engine)\n",
    "    return df"
   ]
  },
  {
   "cell_type": "code",
   "execution_count": 65,
   "metadata": {},
   "outputs": [
    {
     "data": {
      "image/png": "[encoded data removed]",
      "text/plain": [
       "<Figure size 432x288 with 1 Axes>"
      ]
     },
     "metadata": {
      "needs_background": "light"
     },
     "output_type": "display_data"
    }
   ],
   "source": [
    "dataframe6 = get_data_for_visual_6()\n",
    "plot_visual_6(dataframe6)"
   ]
  },
  {
   "cell_type": "markdown",
   "metadata": {},
   "source": [
    "## Part 5: Extra Credit"
   ]
  },
  {
   "cell_type": "markdown",
   "metadata": {},
   "source": [
    "### Extra 1"
   ]
  },
  {
   "cell_type": "code",
   "execution_count": 79,
   "metadata": {},
   "outputs": [
    {
     "data": {
      "image/png": "[encoded data removed]",
      "text/plain": [
       "<Figure size 504x504 with 1 Axes>"
      ]
     },
     "metadata": {},
     "output_type": "display_data"
    }
   ],
   "source": [
    "# Fixing random state for reproducibility\n",
    "np.random.seed(19680801)\n",
    "\n",
    "\n",
    "# Create new Figure and an Axes which fills it.\n",
    "fig = plt.figure(figsize=(7, 7))\n",
    "ax = fig.add_axes([0, 0, 1, 1], frameon=False)\n",
    "ax.set_xlim(0, 1), ax.set_xticks([])\n",
    "ax.set_ylim(0, 1), ax.set_yticks([])\n",
    "\n",
    "# Initialize the raindrops in random positions and with\n",
    "# random growth rates.\n",
    "n_drops = len(dataframe5['distance'])\n",
    "df = np.zeros(n_drops, dtype=[('position', float, (2,)),\n",
    "                                      ('size',     float),\n",
    "                                      ('growth',   float),\n",
    "                                      ('color',    float, (4,))])\n",
    "df['position'] = list(zip(dataframe5['tip_amount'],dataframe5['distance']))\n",
    "\n",
    "df['growth'] = np.random.uniform(50, 200, n_drops)\n",
    "\n",
    "# Construct the scatter which we will update during animation\n",
    "# as the raindrops develop.\n",
    "scat = ax.scatter(df['position'][:, 0], df['position'][:, 1],\n",
    "                  s=df['size'], lw=0.5, edgecolors=df['color'],\n",
    "                  facecolors='none')\n",
    "\n",
    "\n",
    "def update(frame_number):\n",
    "    # Get an index which we can use to re-spawn the oldest raindrop.\n",
    "    current_index = frame_number % n_drops\n",
    "\n",
    "    # Make all colors more transparent as time progresses.\n",
    "    df['color'][:, 3] -= 1.0/len(df)\n",
    "    df['color'][:, 3] = np.clip(df['color'][:, 3], 0, 1)\n",
    "\n",
    "    # Make all circles bigger.\n",
    "    df['size'] += df['growth']\n",
    "\n",
    "    # Pick a new position for oldest rain drop, resetting its size,\n",
    "    # color and growth factor.\n",
    "    df['position'][current_index] = np.random.uniform(0, 1, 2)\n",
    "    df['size'][current_index] = 5\n",
    "    df['color'][current_index] = (0, 0, 0, 1)\n",
    "    df['growth'][current_index] = np.random.uniform(50, 200)\n",
    "\n",
    "    # Update the scatter collection, with the new colors, sizes and positions.\n",
    "    scat.set_edgecolors(df['color'])\n",
    "    scat.set_sizes(df['size'])\n",
    "    scat.set_offsets(df['position'])\n",
    "\n",
    "\n",
    "# Construct the animation, using the update function as the animation director.\n",
    "animation = FuncAnimation(fig, update, interval=10)\n",
    "plt.show()"
   ]
  },
  {
   "cell_type": "markdown",
   "metadata": {},
   "source": [
    "### ~~Extra 2~~"
   ]
  },
  {
   "cell_type": "markdown",
   "metadata": {},
   "source": [
    "### Extra 3\n",
    "See above. The hints were added to the functions above."
   ]
  },
  {
   "cell_type": "markdown",
   "metadata": {},
   "source": [
    "### Extra 4"
   ]
  },
  {
   "cell_type": "markdown",
   "metadata": {},
   "source": [
    "#### Question: How many yellow taxi trips were made on the days when sunrise time equals to 720?"
   ]
  },
  {
   "cell_type": "markdown",
   "metadata": {},
   "source": [
    "Step 1: clean and load data"
   ]
  },
  {
   "cell_type": "code",
   "execution_count": 66,
   "metadata": {},
   "outputs": [],
   "source": [
    "def clean_sunrise_data_daily(csv_file):\n",
    "    '''\n",
    "    Clean monthly weather data, only leave date, sunrise, and sunset columns\n",
    "    \n",
    "    Arguments:\n",
    "    csv_file\n",
    "    \n",
    "    returns:\n",
    "    dataframe\n",
    "    '''\n",
    "    df = pd.read_csv(csv_file)\n",
    "    \n",
    "    # Get the required columns\n",
    "    df = df[[\"DATE\",\"Sunrise\", \"Sunset\"]]\n",
    "    \n",
    "    # Fill out the missing blank for 'Sunrise' and 'Sunset' with 0\n",
    "    df.dropna(subset=['Sunrise','Sunset'],inplace=True)\n",
    "    \n",
    "    # Normalize the 'DATE' columns into datetime form（YYYY-MM-DD）\n",
    "    df['DATE'] = pd.to_datetime(df['DATE'], errors='coerce').dt.date\n",
    "    \n",
    "    return df"
   ]
  },
  {
   "cell_type": "code",
   "execution_count": 67,
   "metadata": {},
   "outputs": [],
   "source": [
    "def load_and_clean_sunrise_data():\n",
    "    \"\"\"\n",
    "    load the data\n",
    "    return dataframe\n",
    "    \n",
    "    returns:\n",
    "    dataframe\n",
    "    \"\"\"\n",
    "    daily_dataframes = []\n",
    "    \n",
    "    # add the name manually\n",
    "    weather_csv_files = [\"2015_weather.csv\",\"2014_weather.csv\",\"2013_weather.csv\",\"2012_weather.csv\",\"2011_weather.csv\",\"2010_weather.csv\",\"2009_weather.csv\"]\n",
    "    \n",
    "    for csv_file in tqdm(weather_csv_files):\n",
    "\n",
    "        daily_dataframe = clean_sunrise_data_daily(csv_file)\n",
    "        daily_dataframes.append(daily_dataframe)\n",
    "        \n",
    "    # create the dataframes with daily data from every month\n",
    "    daily_data = pd.concat(daily_dataframes)\n",
    "    \n",
    "    return daily_data"
   ]
  },
  {
   "cell_type": "code",
   "execution_count": 68,
   "metadata": {},
   "outputs": [
    {
     "name": "stderr",
     "output_type": "stream",
     "text": [
      "100%|██████████| 7/7 [00:00<00:00, 11.07it/s]\n"
     ]
    }
   ],
   "source": [
    "daily_sunrise_data = load_and_clean_sunrise_data()"
   ]
  },
  {
   "cell_type": "code",
   "execution_count": 69,
   "metadata": {},
   "outputs": [
    {
     "data": {
      "text/plain": [
       "<sqlalchemy.engine.result.ResultProxy at 0x7fb548b71f10>"
      ]
     },
     "execution_count": 69,
     "metadata": {},
     "output_type": "execute_result"
    }
   ],
   "source": [
    "engine.execute(\"DROP TABLE daily_sunrise\") #drop the table first if rerun the whole file"
   ]
  },
  {
   "cell_type": "code",
   "execution_count": 70,
   "metadata": {},
   "outputs": [],
   "source": [
    "# create the table\n",
    "DAILY_SUNRISE_SCHEMA = \"\"\"\n",
    "CREATE TABLE IF NOT EXISTS daily_sunrise\n",
    "(\n",
    "    id INTEGER PRIMARY KEY,\n",
    "    DATE DATE,\n",
    "    Sunrise FLOAT,\n",
    "    Sunset FLOAT\n",
    ")\n",
    "\"\"\""
   ]
  },
  {
   "cell_type": "code",
   "execution_count": 71,
   "metadata": {},
   "outputs": [],
   "source": [
    "# insert data to table \n",
    "map_table_name_to_dataframe1 = {\"daily_sunrise\":daily_sunrise_data}\n",
    "write_dataframes_to_table(map_table_name_to_dataframe1)"
   ]
  },
  {
   "cell_type": "code",
   "execution_count": 72,
   "metadata": {},
   "outputs": [],
   "source": [
    "# sql query for this question\n",
    "QUERY_7 = \"\"\"\n",
    "WITH taxi_daily_trips AS\n",
    "(\n",
    "    SELECT DATE(pickup_datetime) AS date, count(*) AS number_of_hired_trips \n",
    "    FROM taxi_trips\n",
    "    GROUP BY date\n",
    ")\n",
    "\n",
    "SELECT ds.DATE, tdt.number_of_hired_trips\n",
    "FROM daily_sunrise ds INNER JOIN taxi_daily_trips tdt\n",
    "ON ds.DATE = tdt.date\n",
    "WHERE ds.Sunrise = 720\n",
    "\n",
    "\n",
    "\"\"\""
   ]
  },
  {
   "cell_type": "code",
   "execution_count": 73,
   "metadata": {},
   "outputs": [
    {
     "data": {
      "text/plain": [
       "[('2015-01-01', 79),\n",
       " ('2015-01-02', 81),\n",
       " ('2015-01-03', 58),\n",
       " ('2015-01-04', 64),\n",
       " ('2015-01-05', 72),\n",
       " ('2015-01-06', 68),\n",
       " ('2015-01-07', 97),\n",
       " ('2015-01-08', 87),\n",
       " ('2015-01-09', 97),\n",
       " ('2015-01-10', 104),\n",
       " ('2015-01-11', 81),\n",
       " ('2014-01-01', 80),\n",
       " ('2014-01-02', 65),\n",
       " ('2014-01-03', 51),\n",
       " ('2014-01-04', 90),\n",
       " ('2014-01-05', 100),\n",
       " ('2014-01-06', 62),\n",
       " ('2014-01-07', 102),\n",
       " ('2014-01-08', 70),\n",
       " ('2014-01-09', 62),\n",
       " ('2014-01-10', 101),\n",
       " ('2014-01-11', 102),\n",
       " ('2014-12-29', 70),\n",
       " ('2014-12-30', 80),\n",
       " ('2014-12-31', 87),\n",
       " ('2013-01-01', 70),\n",
       " ('2013-01-02', 71),\n",
       " ('2013-01-03', 76),\n",
       " ('2013-01-04', 86),\n",
       " ('2013-01-05', 69),\n",
       " ('2013-01-06', 74),\n",
       " ('2013-01-07', 65),\n",
       " ('2013-01-08', 91),\n",
       " ('2013-01-09', 77),\n",
       " ('2013-01-10', 107),\n",
       " ('2013-01-11', 89),\n",
       " ('2013-12-29', 80),\n",
       " ('2013-12-30', 68),\n",
       " ('2013-12-31', 83),\n",
       " ('2012-01-01', 43),\n",
       " ('2012-01-10', 82),\n",
       " ('2012-01-11', 95),\n",
       " ('2012-12-28', 64),\n",
       " ('2012-12-29', 72),\n",
       " ('2012-12-30', 72),\n",
       " ('2012-12-31', 66),\n",
       " ('2011-01-01', 36),\n",
       " ('2011-01-02', 41),\n",
       " ('2011-01-07', 92),\n",
       " ('2011-01-08', 104),\n",
       " ('2011-01-11', 98),\n",
       " ('2010-01-01', 78),\n",
       " ('2010-01-02', 70),\n",
       " ('2010-01-03', 68),\n",
       " ('2010-01-06', 75),\n",
       " ('2010-01-08', 99),\n",
       " ('2010-12-30', 69),\n",
       " ('2009-01-02', 68),\n",
       " ('2009-01-06', 85),\n",
       " ('2009-01-07', 79),\n",
       " ('2009-01-10', 84),\n",
       " ('2009-01-11', 77)]"
      ]
     },
     "execution_count": 73,
     "metadata": {},
     "output_type": "execute_result"
    }
   ],
   "source": [
    "# execute sql statements to get the result\n",
    "engine.execute(QUERY_7).fetchall()"
   ]
  },
  {
   "cell_type": "code",
   "execution_count": null,
   "metadata": {},
   "outputs": [],
   "source": []
  },
  {
   "cell_type": "code",
   "execution_count": null,
   "metadata": {},
   "outputs": [],
   "source": []
  }
 ],
 "metadata": {
  "kernelspec": {
   "display_name": "Python 3",
   "language": "python",
   "name": "python3"
  },
  "language_info": {
   "codemirror_mode": {
    "name": "ipython",
    "version": 3
   },
   "file_extension": ".py",
   "mimetype": "text/x-python",
   "name": "python",
   "nbconvert_exporter": "python",
   "pygments_lexer": "ipython3",
   "version": "3.8.3"
  }
 },
 "nbformat": 4,
 "nbformat_minor": 5
}
