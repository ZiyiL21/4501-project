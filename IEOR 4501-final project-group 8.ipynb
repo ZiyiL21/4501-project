{
 "cells": [
  {
   "cell_type": "markdown",
   "metadata": {},
   "source": [
    "# Understanding Hired Rides in NYC\n",
    "\n",
    "_[Project prompt](https://docs.google.com/document/d/1VERPjEZcC1XSs4-02aM-DbkNr_yaJVbFjLJxaYQswqA/edit#)_\n",
    "\n",
    "_This scaffolding notebook may be used to help setup your final project. It's **totally optional** whether you make use of this or not._\n",
    "\n",
    "_If you do use this notebook, everything provided is optional as well - you may remove or add prose and code as you wish._\n",
    "\n",
    "_Anything in italics (prose) or comments (in code) is meant to provide you with guidance. **Remove the italic lines and provided comments** before submitting the project, if you choose to use this scaffolding. We don't need the guidance when grading._\n",
    "\n",
    "_**All code below should be consider \"pseudo-code\" - not functional by itself, and only a suggestion at the approach.**_"
   ]
  },
  {
   "cell_type": "markdown",
   "metadata": {},
   "source": [
    "## Requirements\n",
    "\n",
    "_A checklist of requirements to keep you on track. Remove this whole cell before submitting the project._\n",
    "\n",
    "* Code clarity: make sure the code conforms to:\n",
    "    * [ ] [PEP 8](https://peps.python.org/pep-0008/) - You might find [this resource](https://realpython.com/python-pep8/) helpful as well as [this](https://github.com/dnanhkhoa/nb_black) or [this](https://jupyterlab-code-formatter.readthedocs.io/en/latest/) tool\n",
    "    * [ ] [PEP 257](https://peps.python.org/pep-0257/)\n",
    "    * [ ] Break each task down into logical functions\n",
    "* The following files are submitted for the project (see the project's GDoc for more details):\n",
    "    * [ ] `README.md`\n",
    "    * [ ] `requirements.txt`\n",
    "    * [ ] `.gitignore`\n",
    "    * [ ] `schema.sql`\n",
    "    * [ ] 6 query files (using the `.sql` extension), appropriately named for the purpose of the query\n",
    "    * [x] Jupyter Notebook containing the project (this file!)\n",
    "* [x] You can edit this cell and add a `x` inside the `[ ]` like this task to denote a completed task"
   ]
  },
  {
   "cell_type": "markdown",
   "metadata": {},
   "source": [
    "## Project Setup"
   ]
  },
  {
   "cell_type": "code",
   "execution_count": 1,
   "metadata": {},
   "outputs": [],
   "source": [
    "# all import statements needed for the project, for example:\n",
    "\n",
    "from math import radians, cos, sin, asin, sqrt\n",
    "\n",
    "import bs4\n",
    "import matplotlib.pyplot as plt\n",
    "import pandas as pd\n",
    "import geopandas as gpd\n",
    "import requests\n",
    "import sqlalchemy as db\n",
    "import pyarrow.parquet as pq\n",
    "import re\n",
    "import numpy as np\n",
    "import sys\n",
    "import warnings\n",
    "from tqdm import tqdm\n",
    "warnings.filterwarnings(\"ignore\")"
   ]
  },
  {
   "cell_type": "code",
   "execution_count": 2,
   "metadata": {},
   "outputs": [
    {
     "name": "stdout",
     "output_type": "stream",
     "text": [
      "Requirement already satisfied: pyarrow in /Users/lzy/opt/anaconda3/lib/python3.8/site-packages (10.0.1)\n",
      "Requirement already satisfied: numpy>=1.16.6 in /Users/lzy/opt/anaconda3/lib/python3.8/site-packages (from pyarrow) (1.19.5)\n",
      "^C\n",
      "Traceback (most recent call last):\n",
      "  File \"/Users/lzy/opt/anaconda3/bin/pip\", line 11, in <module>\n",
      "    sys.exit(main())\n",
      "  File \"/Users/lzy/opt/anaconda3/lib/python3.8/site-packages/pip/_internal/cli/main.py\", line 73, in main\n",
      "    command = create_command(cmd_name, isolated=(\"--isolated\" in cmd_args))\n",
      "  File \"/Users/lzy/opt/anaconda3/lib/python3.8/site-packages/pip/_internal/commands/__init__.py\", line 104, in create_command\n",
      "    module = importlib.import_module(module_path)\n",
      "  File \"/Users/lzy/opt/anaconda3/lib/python3.8/importlib/__init__.py\", line 127, in import_module\n",
      "    return _bootstrap._gcd_import(name[level:], package, level)\n",
      "  File \"<frozen importlib._bootstrap>\", line 1014, in _gcd_import\n",
      "  File \"<frozen importlib._bootstrap>\", line 991, in _find_and_load\n",
      "  File \"<frozen importlib._bootstrap>\", line 975, in _find_and_load_unlocked\n",
      "  File \"<frozen importlib._bootstrap>\", line 671, in _load_unlocked\n",
      "  File \"<frozen importlib._bootstrap_external>\", line 783, in exec_module\n",
      "  File \"<frozen importlib._bootstrap>\", line 219, in _call_with_frames_removed\n",
      "  File \"/Users/lzy/opt/anaconda3/lib/python3.8/site-packages/pip/_internal/commands/install.py\", line 24, in <module>\n",
      "    from pip._internal.cli.req_command import RequirementCommand, with_cleanup\n",
      "  File \"/Users/lzy/opt/anaconda3/lib/python3.8/site-packages/pip/_internal/cli/req_command.py\", line 19, in <module>\n",
      "    from pip._internal.network.session import PipSession\n",
      "  File \"/Users/lzy/opt/anaconda3/lib/python3.8/site-packages/pip/_internal/network/session.py\", line 26, in <module>\n",
      "    from pip._internal.network.auth import MultiDomainBasicAuth\n",
      "  File \"/Users/lzy/opt/anaconda3/lib/python3.8/site-packages/pip/_internal/network/auth.py\", line 36, in <module>\n",
      "    import keyring  # noqa\n",
      "  File \"/Users/lzy/opt/anaconda3/lib/python3.8/site-packages/keyring/__init__.py\", line 1, in <module>\n",
      "    from .core import (\n",
      "  File \"/Users/lzy/opt/anaconda3/lib/python3.8/site-packages/keyring/core.py\", line 192, in <module>\n",
      "    init_backend()\n",
      "  File \"/Users/lzy/opt/anaconda3/lib/python3.8/site-packages/keyring/core.py\", line 96, in init_backend\n",
      "    filter(limit, backend.get_all_keyring()),\n",
      "  File \"/Users/lzy/opt/anaconda3/lib/python3.8/site-packages/keyring/util/__init__.py\", line 22, in wrapper\n",
      "    func.always_returns = func(*args, **kwargs)\n",
      "  File \"/Users/lzy/opt/anaconda3/lib/python3.8/site-packages/keyring/backend.py\", line 216, in get_all_keyring\n",
      "    _load_plugins()\n",
      "  File \"/Users/lzy/opt/anaconda3/lib/python3.8/site-packages/keyring/backend.py\", line 199, in _load_plugins\n",
      "    entry_points = metadata.entry_points().get('keyring.backends', [])\n",
      "  File \"/Users/lzy/opt/anaconda3/lib/python3.8/importlib/metadata.py\", line 542, in entry_points\n",
      "    ordered = sorted(eps, key=by_group)\n",
      "  File \"/Users/lzy/opt/anaconda3/lib/python3.8/importlib/metadata.py\", line 540, in <genexpr>\n",
      "    dist.entry_points for dist in distributions())\n",
      "  File \"/Users/lzy/opt/anaconda3/lib/python3.8/importlib/metadata.py\", line 240, in entry_points\n",
      "    return EntryPoint._from_text(self.read_text('entry_points.txt'))\n",
      "  File \"/Users/lzy/opt/anaconda3/lib/python3.8/importlib/metadata.py\", line 96, in _from_text\n",
      "    config = ConfigParser(delimiters='=')\n",
      "  File \"/Users/lzy/opt/anaconda3/lib/python3.8/configparser.py\", line 611, in __init__\n",
      "    self._converters = ConverterMapping(self)\n",
      "  File \"/Users/lzy/opt/anaconda3/lib/python3.8/configparser.py\", line 1321, in __init__\n",
      "    m = self.GETTERCRE.match(getter)\n",
      "KeyboardInterrupt\n"
     ]
    }
   ],
   "source": [
    "# any general notebook setup, like log formatting\n",
    "!pip install pyarrow\n",
    "!pip install geopandas"
   ]
  },
  {
   "cell_type": "code",
   "execution_count": 3,
   "metadata": {},
   "outputs": [],
   "source": [
    "#urls\n",
    "TAXI_URL = \"https://www.nyc.gov/site/tlc/about/tlc-trip-record-data.page\"\n",
    "\n",
    "#local csvs\n",
    "UBER_DATA = \"uber_rides_sample.csv\"\n",
    "\n",
    "#coords\n",
    "NEW_YORK_BOX_COORDS = ((40.560445, -74.242330), (40.908524, -73.717047))\n",
    "\n",
    "DATABASE_URL = \"sqlite:///project.db\"\n",
    "DATABASE_SCHEMA_FILE = \"schema.sql\"\n",
    "QUERY_DIRECTORY = \"queries\""
   ]
  },
  {
   "cell_type": "markdown",
   "metadata": {},
   "source": [
    "## Part 1: Data Preprocessing"
   ]
  },
  {
   "cell_type": "markdown",
   "metadata": {},
   "source": [
    "_A checklist of requirements to keep you on track. Remove this whole cell before submitting the project. The order of these tasks aren't necessarily the order in which they need to be done. It's okay to do them in an order that makes sense to you._\n",
    "\n",
    "* [ ] Define a function that calculates the distance between two coordinates in kilometers that **only uses the `math` module** from the standard library.\n",
    "* [ ] Taxi data:\n",
    "    * [ ] Use the `re` module, and the packages `requests`, BeautifulSoup (`bs4`), and (optionally) `pandas` to programmatically download the required CSV files & load into memory.\n",
    "    * You may need to do this one file at a time - download, clean, sample. You can cache the sampling by saving it as a CSV file (and thereby freeing up memory on your computer) before moving onto the next file. \n",
    "* [ ] Weather & Uber data:\n",
    "    * [ ] Download the data manually in the link provided in the project doc.\n",
    "* [ ] All data:\n",
    "    * [ ] Load the data using `pandas`\n",
    "    * [ ] Clean the data, including:\n",
    "        * Remove unnecessary columns\n",
    "        * Remove invalid data points (take a moment to consider what's invalid)\n",
    "        * Normalize column names\n",
    "        * (Taxi & Uber data) Remove trips that start and/or end outside the designated [coordinate box](http://bboxfinder.com/#40.560445,-74.242330,40.908524,-73.717047)\n",
    "    * [ ] (Taxi data) Sample the data so that you have roughly the same amount of data points over the given date range for both Taxi data and Uber data.\n",
    "* [ ] Weather data:\n",
    "    * [ ] Split into two `pandas` DataFrames: one for required hourly data, and one for the required daily daya.\n",
    "    * [ ] You may find that the weather data you need later on does not exist at the frequency needed (daily vs hourly). You may calculate/generate samples from one to populate the other. Just document what you’re doing so we can follow along. "
   ]
  },
  {
   "cell_type": "markdown",
   "metadata": {},
   "source": [
    "### Calculating distance\n",
    "_**TODO:** to find the trip distance by transfering coordinates (degrees) into the distance in kilometers._"
   ]
  },
  {
   "cell_type": "code",
   "execution_count": 4,
   "metadata": {},
   "outputs": [],
   "source": [
    "def calculate_distance(from_coord, to_coord):\n",
    "    \n",
    "    #transfer from degrees to radians.\n",
    "    #get latitude and longitude of the from_coord\n",
    "    pick_lat = from_coord[\"pickup_latitude\"].map(radians)\n",
    "    pick_long = from_coord[\"pickup_longitude\"].map(radians)\n",
    "    #get latitude and longitude of the to_coord\n",
    "    drop_lat = to_coord[\"dropoff_latitude\"].map(radians)\n",
    "    drop_long = to_coord[\"dropoff_longitude\"].map(radians)\n",
    "    \n",
    "    distance_long = pick_long - drop_long\n",
    "    distance_lat = pick_lat - drop_lat\n",
    "    \n",
    "    x = ((distance_lat / 2).map(sin))**2 + (pick_lat).map(cos) * (drop_lat).map(cos) * ((distance_long / 2).map(sin))**2\n",
    "    c = 2 * (x.map(sqrt)).map(asin)\n",
    "    r = 6378 # Radius of earth in kilometers\n",
    "    \n",
    "    return c*r\n"
   ]
  },
  {
   "cell_type": "code",
   "execution_count": 5,
   "metadata": {},
   "outputs": [],
   "source": [
    "def add_distance_column(dataframe):\n",
    "    #add the 'distance' column into the dataframe\n",
    "    #distance is the result of calculate_distance(from_coord, to_coord)\n",
    "    from_coord = dataframe[[\"pickup_latitude\",\"pickup_longitude\"]]\n",
    "    to_coord = dataframe[[\"dropoff_latitude\",\"dropoff_longitude\"]]\n",
    "    \n",
    "    dataframe[\"distance\"] = calculate_distance(from_coord, to_coord)\n",
    "    dataframe[\"distance\"] = dataframe[\"distance\"].astype(\"float32\")\n",
    "    return dataframe"
   ]
  },
  {
   "cell_type": "markdown",
   "metadata": {},
   "source": [
    "### Processing Taxi Data\n",
    "\n",
    "_**TODO:** Write some prose that tells the reader what you're about to do here._"
   ]
  },
  {
   "cell_type": "code",
   "execution_count": 6,
   "metadata": {},
   "outputs": [],
   "source": [
    "def find_taxi_parquet_links():\n",
    "    response = requests.get(TAXI_URL)\n",
    "    html = response.content\n",
    "    soup = bs4.BeautifulSoup(html, \"html.parser\")\n",
    "    yellow_a_tags = soup.find_all(\"a\", attrs={\"title\": \"Yellow Taxi Trip Records\"})\n",
    "    result = [a[\"href\"] for a in yellow_a_tags]\n",
    "    pattern = re.compile(\n",
    "    r\"yellow_tripdata_20((15-0([1-6]))|(09-(\\d{2}))|(1[0-4]-(\\d{2}))).parquet\"\n",
    "    )\n",
    "    links = []\n",
    "    for link in result:\n",
    "        match = pattern.search(link)\n",
    "        if match:\n",
    "            links.append(match.string) \n",
    "    return links"
   ]
  },
  {
   "cell_type": "code",
   "execution_count": 7,
   "metadata": {},
   "outputs": [],
   "source": [
    "def get_and_clean_month_taxi_data(url):\n",
    "\n",
    "    df = pd.read_parquet(url)\n",
    "\n",
    "    taxi_zones = gpd.read_file(filename='taxi_zones.zip', engine='fiona')\n",
    "    taxi_zones = taxi_zones.to_crs(4326)\n",
    "    taxi_zones['longitude'] = taxi_zones.centroid.x\n",
    "    taxi_zones['latitude'] = taxi_zones.centroid.y\n",
    "\n",
    "    if 'PULocationID' in df.columns:\n",
    "        df['pickup_latitude'] = df['PULocationID'].map(taxi_zones['latitude'])\n",
    "        df['pickup_longitude'] = df['PULocationID'].map(taxi_zones['longitude'])\n",
    "    if 'DOLocationID' in df.columns:\n",
    "        df['dropoff_latitude'] = df['DOLocationID'].map(taxi_zones['latitude'])\n",
    "        df['dropoff_longitude'] = df['DOLocationID'].map(taxi_zones['longitude'])\n",
    "        \n",
    "    # Set all column names to lower case    \n",
    "    df = df.rename(columns=str.lower)\n",
    "    \n",
    "    # Normalize column names\n",
    "    df.rename(columns={'tpep_pickup_datetime':'pickup_datetime','trip_pickup_datetime':'pickup_datetime',\n",
    "                       'tpep_dropoff_datetime':'dropoff_datetime','trip_dropoff_datetime':'dropoff_datetime',\n",
    "                       'start_lon':'pickup_longitude', 'start_lat':'pickup_latitude', \n",
    "                       'end_lon':'dropoff_longitude', 'end_lat':'dropoff_latitude','tip_amt':'tip_amount'}, inplace=True)\n",
    "    \n",
    "    # Remove invalid data points\n",
    "    df.dropna(subset=['pickup_latitude','pickup_longitude','dropoff_latitude','dropoff_longitude','tip_amount'],inplace=True)\n",
    "    df = df[df['passenger_count'] >= 1]\n",
    "    df = df[(df['pickup_latitude'] != df['dropoff_latitude']) | (df['pickup_longitude'] != df['dropoff_longitude'])]\n",
    "    \n",
    "    # Remove unnecessary columns\n",
    "    df = df[['pickup_datetime','pickup_longitude','pickup_latitude','dropoff_longitude','dropoff_latitude','tip_amount']]\n",
    "\n",
    "    # Remove trips that start and/or end outside the designated coordinate box (NEW_YORK_BOX_COORDS)\n",
    "    df = df[(df['pickup_latitude'] >= NEW_YORK_BOX_COORDS[0][0]) & (df['pickup_latitude'] <= NEW_YORK_BOX_COORDS[1][0])\n",
    "            & (df['pickup_longitude'] >= NEW_YORK_BOX_COORDS[0][1]) & (df['pickup_longitude'] <= NEW_YORK_BOX_COORDS[1][1])]\n",
    "    df = df[(df['dropoff_latitude'] >= NEW_YORK_BOX_COORDS[0][0]) & (df['dropoff_latitude'] <= NEW_YORK_BOX_COORDS[1][0])\n",
    "            & (df['dropoff_longitude'] >= NEW_YORK_BOX_COORDS[0][1]) & (df['dropoff_longitude'] <= NEW_YORK_BOX_COORDS[1][1])]\n",
    "\n",
    "\n",
    "    # Sample\n",
    "    df = df.sample(n=2564)\n",
    "    \n",
    "    # Use appropriate type for each column\n",
    "    df = df.reset_index(drop=True)\n",
    "    df['pickup_datetime'] = pd.to_datetime(df['pickup_datetime'])\n",
    "    df.iloc[:,1:7] = df.iloc[:,1:7].astype(\"float32\")\n",
    "    return df"
   ]
  },
  {
   "cell_type": "code",
   "execution_count": 8,
   "metadata": {},
   "outputs": [],
   "source": [
    "def get_and_clean_taxi_data():\n",
    "    all_taxi_dataframes = []\n",
    "    \n",
    "    all_parquet_urls = find_taxi_parquet_links()\n",
    "    for parquet_url in tqdm(all_parquet_urls):\n",
    "        dataframe = get_and_clean_month_taxi_data(parquet_url)\n",
    "        add_distance_column(dataframe)\n",
    "        \n",
    "        all_taxi_dataframes.append(dataframe)\n",
    "        \n",
    "    # create one gigantic dataframe with data from every month needed\n",
    "    taxi_data = pd.concat(all_taxi_dataframes)\n",
    "        \n",
    "    return taxi_data"
   ]
  },
  {
   "cell_type": "markdown",
   "metadata": {},
   "source": [
    "### Processing Uber Data\n",
    "\n",
    "_**TODO:** Write some prose that tells the reader what you're about to do here._"
   ]
  },
  {
   "cell_type": "code",
   "execution_count": 9,
   "metadata": {},
   "outputs": [],
   "source": [
    "def load_and_clean_uber_data(csv_file):\n",
    "    df = pd.read_csv(csv_file)\n",
    "    \n",
    "    # Remove unnecessary columns\n",
    "    df = df[['pickup_datetime','pickup_longitude','pickup_latitude','dropoff_longitude','dropoff_latitude']]\n",
    "    \n",
    "    # Remove trips that start and/or end outside the designated coordinate box (NEW_YORK_BOX_COORDS)\n",
    "    df = df[(df['pickup_latitude'] >= NEW_YORK_BOX_COORDS[0][0]) & (df['pickup_latitude'] <= NEW_YORK_BOX_COORDS[1][0])\n",
    "            & (df['pickup_longitude'] >= NEW_YORK_BOX_COORDS[0][1]) & (df['pickup_longitude'] <= NEW_YORK_BOX_COORDS[1][1])]\n",
    "    \n",
    "    # Use appropriate type for each column\n",
    "    df['pickup_datetime'] = pd.to_datetime(df['pickup_datetime'])\n",
    "    df.iloc[:,1:5] = df.iloc[:,1:5].astype(\"float32\")\n",
    "    return df"
   ]
  },
  {
   "cell_type": "code",
   "execution_count": 10,
   "metadata": {},
   "outputs": [],
   "source": [
    "def get_uber_data():\n",
    "    uber_dataframe = load_and_clean_uber_data(UBER_DATA)\n",
    "    add_distance_column(uber_dataframe)\n",
    "    return uber_dataframe"
   ]
  },
  {
   "cell_type": "markdown",
   "metadata": {},
   "source": [
    "### Processing Weather Data\n",
    "\n",
    "_**TODO:** Write some prose that tells the reader what you're about to do here._"
   ]
  },
  {
   "cell_type": "code",
   "execution_count": 11,
   "metadata": {},
   "outputs": [],
   "source": [
    "def clean_month_weather_data_hourly(csv_file):\n",
    "    df = pd.read_csv(csv_file)\n",
    "    \n",
    "    #find the required columns\n",
    "    df = df[[\"DATE\",\"HourlyPrecipitation\", \"HourlyWindSpeed\"]]\n",
    "    \n",
    "    #normalize the 'Precipitation' columns into numeric form (dtype: float32) and fillout the blank with value 0\n",
    "    df[\"HourlyPrecipitation\"].fillna(value = 0, inplace = True)\n",
    "    df[df[\"HourlyPrecipitation\"]==\"T\"] = float(0.00001)\n",
    "    df[df[\"HourlyPrecipitation\"]==\"M\"] = np.nan\n",
    "    df['HourlyPrecipitation'] = pd.to_numeric(df['HourlyPrecipitation'], errors = \"coerce\")\n",
    "    \n",
    "    #fill out the missing blank for 'WindSpeed' with 0\n",
    "    df[\"HourlyWindSpeed\"].fillna(value = 0, inplace = True)\n",
    "    \n",
    "    #normalize the 'DATE' columns into datetime form\n",
    "    df[\"DATE\"] = pd.to_datetime(df[\"DATE\"])\n",
    "    df = df.astype({\"HourlyWindSpeed\":\"int8\",\"HourlyPrecipitation\":\"float32\"})\n",
    "    \n",
    "    return df"
   ]
  },
  {
   "cell_type": "code",
   "execution_count": 12,
   "metadata": {},
   "outputs": [],
   "source": [
    "def clean_month_weather_data_daily(csv_file):\n",
    "    df = clean_month_weather_data_hourly(csv_file)\n",
    "    df['DATE'] = pd.to_datetime(df['DATE'], errors='coerce').dt.date\n",
    "    df_windspeed = df.groupby('DATE')['HourlyWindSpeed'].mean()\n",
    "    df_precipitation = df.groupby('DATE')['HourlyPrecipitation'].sum()\n",
    "    \n",
    "    df = pd.merge(df_windspeed,df_precipitation,on='DATE')\n",
    "    df = df.rename(columns={'HourlyWindSpeed': 'DailyWindSpeed', 'HourlyPrecipitation': 'DailyPrecipitation'})\n",
    "    df = df.astype({\"DailyWindSpeed\":\"int8\",\"DailyPrecipitation\":\"float32\"})\n",
    "    return df"
   ]
  },
  {
   "cell_type": "code",
   "execution_count": 13,
   "metadata": {},
   "outputs": [],
   "source": [
    "def load_and_clean_weather_data():\n",
    "    hourly_dataframes = []\n",
    "    daily_dataframes = []\n",
    "    \n",
    "    # add some way to find all weather CSV files\n",
    "    # or just add the name/paths manually\n",
    "    weather_csv_files = [\"2015_weather.csv\",\"2014_weather.csv\",\"2013_weather.csv\",\"2012_weather.csv\",\"2011_weather.csv\",\"2010_weather.csv\",\"2009_weather.csv\"]\n",
    "    \n",
    "    for csv_file in tqdm(weather_csv_files):\n",
    "        hourly_dataframe = clean_month_weather_data_hourly(csv_file)\n",
    "        daily_dataframe = clean_month_weather_data_daily(csv_file)\n",
    "        hourly_dataframes.append(hourly_dataframe)\n",
    "        daily_dataframes.append(daily_dataframe)\n",
    "        \n",
    "    # create two dataframes with hourly & daily data from every month\n",
    "    hourly_data = pd.concat(hourly_dataframes)\n",
    "    daily_data = pd.concat(daily_dataframes)\n",
    "    \n",
    "    return hourly_data, daily_data"
   ]
  },
  {
   "cell_type": "markdown",
   "metadata": {},
   "source": [
    "### Process All Data\n",
    "\n",
    "_This is where you can actually execute all the required functions._\n",
    "\n",
    "_**TODO:** Write some prose that tells the reader what you're about to do here._"
   ]
  },
  {
   "cell_type": "code",
   "execution_count": null,
   "metadata": {},
   "outputs": [
    {
     "name": "stderr",
     "output_type": "stream",
     "text": [
      "\r",
      "  0%|          | 0/78 [00:00<?, ?it/s]"
     ]
    }
   ],
   "source": [
    "taxi_data = get_and_clean_taxi_data()"
   ]
  },
  {
   "cell_type": "code",
   "execution_count": null,
   "metadata": {},
   "outputs": [],
   "source": [
    "taxi_data.sort_values('distance')"
   ]
  },
  {
   "cell_type": "code",
   "execution_count": null,
   "metadata": {},
   "outputs": [],
   "source": [
    "uber_data = get_uber_data()"
   ]
  },
  {
   "cell_type": "code",
   "execution_count": null,
   "metadata": {},
   "outputs": [],
   "source": [
    "hourly_weather_data, daily_weather_data = load_and_clean_weather_data()"
   ]
  },
  {
   "cell_type": "markdown",
   "metadata": {},
   "source": [
    "## Part 2: Storing Cleaned Data\n",
    "\n",
    "_Write some prose that tells the reader what you're about to do here._"
   ]
  },
  {
   "cell_type": "code",
   "execution_count": null,
   "metadata": {},
   "outputs": [],
   "source": [
    "engine = db.create_engine(DATABASE_URL)"
   ]
  },
  {
   "cell_type": "code",
   "execution_count": null,
   "metadata": {},
   "outputs": [],
   "source": [
    "HOURLY_WEATHER_SCHEMA = \"\"\"\n",
    "CREATE TABLE IF NOT EXISTS hourly_weather\n",
    "(\n",
    "    id INTEGER PRIMARY KEY,\n",
    "    DATE DATE,\n",
    "    HourlyWindSpeed INTETER,\n",
    "    HourlyPrecipitation FLOAT\n",
    ")\n",
    "\"\"\"\n",
    "\n",
    "DAILY_WEATHER_SCHEMA = \"\"\"\n",
    "CREATE TABLE IF NOT EXISTS daily_weather\n",
    "(\n",
    "    id INTEGER PRIMARY KEY,\n",
    "    DATE DATE,\n",
    "    DailyWindSpeed INTETER,\n",
    "    DailyPrecipitation FLOAT\n",
    ")\n",
    "\"\"\"\n",
    "\n",
    "TAXI_TRIPS_SCHEMA = \"\"\"\n",
    "CREATE TABLE IF NOT EXISTS taxi_trips\n",
    "(\n",
    "    id INTEGER PRIMARY KEY,\n",
    "    pickup_datetime DATE,\n",
    "    PULocationID INTETER\n",
    "    DOLocationID INTETER\n",
    "    pickup_longitude FLOAT,\n",
    "    pickup_latitude FLOAT,\n",
    "    dropoff_longitude FLOAT,\n",
    "    dropoff_latitude FLOAT,\n",
    "    distance FLOAT\n",
    ")\n",
    "\"\"\"\n",
    "\n",
    "UBER_TRIPS_SCHEMA = \"\"\"\n",
    "CREATE TABLE IF NOT EXISTS uber_trips\n",
    "(\n",
    "    id INTEGER PRIMARY KEY,\n",
    "    pickup_datetime DATE,\n",
    "    pickup_longitude FLOAT,\n",
    "    pickup_latitude FLOAT,\n",
    "    dropoff_longitude FLOAT,\n",
    "    dropoff_latitude FLOAT,\n",
    "    distance FLOAT\n",
    ")\n",
    "\"\"\""
   ]
  },
  {
   "cell_type": "code",
   "execution_count": null,
   "metadata": {},
   "outputs": [],
   "source": [
    "# create that required schema.sql file\n",
    "with open(DATABASE_SCHEMA_FILE, \"w\") as f:\n",
    "    f.write(HOURLY_WEATHER_SCHEMA)\n",
    "    f.write(DAILY_WEATHER_SCHEMA)\n",
    "    f.write(TAXI_TRIPS_SCHEMA)\n",
    "    f.write(UBER_TRIPS_SCHEMA)"
   ]
  },
  {
   "cell_type": "code",
   "execution_count": null,
   "metadata": {},
   "outputs": [],
   "source": [
    "# create the tables with the schema files\n",
    "with engine.connect() as connection:\n",
    "    pass"
   ]
  },
  {
   "cell_type": "markdown",
   "metadata": {},
   "source": [
    "### Add Data to Database\n",
    "\n",
    "_**TODO:** Write some prose that tells the reader what you're about to do here._"
   ]
  },
  {
   "cell_type": "code",
   "execution_count": null,
   "metadata": {},
   "outputs": [],
   "source": [
    "def write_dataframes_to_table(table_to_df_dict):\n",
    "    for table, df in table_to_df_dict.items():\n",
    "        df.to_sql(table, con=engine, if_exists=\"append\", index=False)"
   ]
  },
  {
   "cell_type": "code",
   "execution_count": null,
   "metadata": {},
   "outputs": [],
   "source": [
    "map_table_name_to_dataframe = {\n",
    "    \"taxi_trips\": taxi_data,\n",
    "    \"uber_trips\": uber_data,\n",
    "    \"hourly_weather\": hourly_weather_data,\n",
    "    \"daily_weather\": daily_weather_data,\n",
    "}"
   ]
  },
  {
   "cell_type": "code",
   "execution_count": null,
   "metadata": {},
   "outputs": [],
   "source": [
    "write_dataframes_to_table(map_table_name_to_dataframe)"
   ]
  },
  {
   "cell_type": "markdown",
   "metadata": {},
   "source": [
    "## Part 3: Understanding the Data"
   ]
  },
  {
   "cell_type": "markdown",
   "metadata": {},
   "source": [
    "_A checklist of requirements to keep you on track. Remove this whole cell before submitting the project. The order of these tasks aren't necessarily the order in which they need to be done. It's okay to do them in an order that makes sense to you._\n",
    "\n",
    "* [ ] For 01-2009 through 06-2015, what hour of the day was the most popular to take a yellow taxi? The result should have 24 bins.\n",
    "* [ ] For the same time frame, what day of the week was the most popular to take an uber? The result should have 7 bins.\n",
    "* [ ] What is the 95% percentile of distance traveled for all hired trips during July 2013?\n",
    "* [ ] What were the top 10 days with the highest number of hired rides for 2009, and what was the average distance for each day?\n",
    "* [ ] Which 10 days in 2014 were the windiest, and how many hired trips were made on those days?\n",
    "* [ ] During Hurricane Sandy in NYC (Oct 29-30, 2012) and the week leading up to it, how many trips were taken each hour, and for each hour, how much precipitation did NYC receive and what was the sustained wind speed?"
   ]
  },
  {
   "cell_type": "code",
   "execution_count": null,
   "metadata": {},
   "outputs": [],
   "source": [
    "def write_query_to_file(query, outfile):\n",
    "    raise NotImplemented()"
   ]
  },
  {
   "cell_type": "markdown",
   "metadata": {},
   "source": [
    "### Query N\n",
    "\n",
    "_**TODO:** Write some prose that tells the reader what you're about to do here._\n",
    "\n",
    "_Repeat for each query_"
   ]
  },
  {
   "cell_type": "code",
   "execution_count": null,
   "metadata": {},
   "outputs": [],
   "source": [
    "QUERY_N = \"\"\"\n",
    "TODO\n",
    "\"\"\""
   ]
  },
  {
   "cell_type": "code",
   "execution_count": null,
   "metadata": {},
   "outputs": [],
   "source": [
    "engine.execute(QUERY_N).fetchall()"
   ]
  },
  {
   "cell_type": "code",
   "execution_count": null,
   "metadata": {},
   "outputs": [],
   "source": [
    "write_query_to_file(QUERY_N, \"some_descriptive_name.sql\")"
   ]
  },
  {
   "cell_type": "markdown",
   "metadata": {},
   "source": [
    "## Part 4: Visualizing the Data\n",
    "\n",
    "_A checklist of requirements to keep you on track. Remove this whole cell before submitting the project. The order of these tasks aren't necessarily the order in which they need to be done. It's okay to do them in an order that makes sense to you._\n",
    "\n",
    "* [ ] Create an appropriate visualization for the first query/question in part 3\n",
    "* [ ] Create a visualization that shows the average distance traveled per month (regardless of year - so group by each month). Include the 90% confidence interval around the mean in the visualization\n",
    "* [ ] Define three lat/long coordinate boxes around the three major New York airports: LGA, JFK, and EWR (you can use bboxfinder to help). Create a visualization that compares what day of the week was most popular for drop offs for each airport.\n",
    "* [ ] Create a heatmap of all hired trips over a map of the area. Consider using KeplerGL or another library that helps generate geospatial visualizations.\n",
    "* [ ] Create a scatter plot that compares tip amount versus distance.\n",
    "* [ ] Create another scatter plot that compares tip amount versus precipitation amount.\n",
    "\n",
    "_Be sure these cells are executed so that the visualizations are rendered when the notebook is submitted._"
   ]
  },
  {
   "cell_type": "markdown",
   "metadata": {},
   "source": [
    "### Visualization N\n",
    "\n",
    "_**TODO:** Write some prose that tells the reader what you're about to do here._\n",
    "\n",
    "_Repeat for each visualization._\n",
    "\n",
    "_The example below makes use of the `matplotlib` library. There are other libraries, including `pandas` built-in plotting library, kepler for geospatial data representation, `seaborn`, and others._"
   ]
  },
  {
   "cell_type": "code",
   "execution_count": null,
   "metadata": {},
   "outputs": [],
   "source": [
    "# use a more descriptive name for your function\n",
    "def plot_visual_n(dataframe):\n",
    "    figure, axes = plt.subplots(figsize=(20, 10))\n",
    "    \n",
    "    values = \"...\"  # use the dataframe to pull out values needed to plot\n",
    "    \n",
    "    # you may want to use matplotlib to plot your visualizations;\n",
    "    # there are also many other plot types (other \n",
    "    # than axes.plot) you can use\n",
    "    axes.plot(values, \"...\")\n",
    "    # there are other methods to use to label your axes, to style \n",
    "    # and set up axes labels, etc\n",
    "    axes.set_title(\"Some Descriptive Title\")\n",
    "    \n",
    "    plt.show()"
   ]
  },
  {
   "cell_type": "code",
   "execution_count": null,
   "metadata": {},
   "outputs": [],
   "source": [
    "def get_data_for_visual_n():\n",
    "    # Query SQL database for the data needed.\n",
    "    # You can put the data queried into a pandas dataframe, if you wish\n",
    "    raise NotImplemented()"
   ]
  },
  {
   "cell_type": "code",
   "execution_count": null,
   "metadata": {},
   "outputs": [],
   "source": [
    "some_dataframe = get_data_for_visual_n()\n",
    "plot_visual_n(some_dataframe)"
   ]
  }
 ],
 "metadata": {
  "kernelspec": {
   "display_name": "Python 3",
   "language": "python",
   "name": "python3"
  },
  "language_info": {
   "codemirror_mode": {
    "name": "ipython",
    "version": 3
   },
   "file_extension": ".py",
   "mimetype": "text/x-python",
   "name": "python",
   "nbconvert_exporter": "python",
   "pygments_lexer": "ipython3",
   "version": "3.8.3"
  }
 },
 "nbformat": 4,
 "nbformat_minor": 5
}
