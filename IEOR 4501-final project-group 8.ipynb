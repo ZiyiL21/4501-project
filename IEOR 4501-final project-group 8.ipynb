{
 "cells": [
  {
   "cell_type": "markdown",
   "metadata": {},
   "source": [
    "# Understanding Hired Rides in NYC\n",
    "\n",
    "_[Project prompt](https://docs.google.com/document/d/1VERPjEZcC1XSs4-02aM-DbkNr_yaJVbFjLJxaYQswqA/edit#)_\n",
    "\n",
    "_This scaffolding notebook may be used to help setup your final project. It's **totally optional** whether you make use of this or not._\n",
    "\n",
    "_If you do use this notebook, everything provided is optional as well - you may remove or add prose and code as you wish._\n",
    "\n",
    "_Anything in italics (prose) or comments (in code) is meant to provide you with guidance. **Remove the italic lines and provided comments** before submitting the project, if you choose to use this scaffolding. We don't need the guidance when grading._\n",
    "\n",
    "_**All code below should be consider \"pseudo-code\" - not functional by itself, and only a suggestion at the approach.**_"
   ]
  },
  {
   "cell_type": "markdown",
   "metadata": {},
   "source": [
    "## Requirements\n",
    "\n",
    "_A checklist of requirements to keep you on track. Remove this whole cell before submitting the project._\n",
    "\n",
    "* Code clarity: make sure the code conforms to:\n",
    "    * [ ] [PEP 8](https://peps.python.org/pep-0008/) - You might find [this resource](https://realpython.com/python-pep8/) helpful as well as [this](https://github.com/dnanhkhoa/nb_black) or [this](https://jupyterlab-code-formatter.readthedocs.io/en/latest/) tool\n",
    "    * [ ] [PEP 257](https://peps.python.org/pep-0257/)\n",
    "    * [ ] Break each task down into logical functions\n",
    "* The following files are submitted for the project (see the project's GDoc for more details):\n",
    "    * [ ] `README.md`\n",
    "    * [ ] `requirements.txt`\n",
    "    * [ ] `.gitignore`\n",
    "    * [ ] `schema.sql`\n",
    "    * [X] 6 query files (using the `.sql` extension), appropriately named for the purpose of the query\n",
    "    * [x] Jupyter Notebook containing the project (this file!)\n",
    "* [x] You can edit this cell and add a `x` inside the `[ ]` like this task to denote a completed task"
   ]
  },
  {
   "cell_type": "markdown",
   "metadata": {},
   "source": [
    "## Project Setup"
   ]
  },
  {
   "cell_type": "code",
   "execution_count": 1,
   "metadata": {},
   "outputs": [],
   "source": [
    "# all import statements needed for the project, for example:\n",
    "\n",
    "from math import radians, cos, sin, asin, sqrt\n",
    "import bs4\n",
    "import matplotlib.pyplot as plt\n",
    "import pandas as pd\n",
    "import geopandas as gpd\n",
    "import requests\n",
    "import sqlalchemy as db\n",
    "import pyarrow.parquet as pq\n",
    "import re\n",
    "import numpy as np\n",
    "import sys\n",
    "import warnings\n",
    "from tqdm import tqdm\n",
    "import scipy.stats as st\n",
    "import plotly.express as px\n",
    "warnings.filterwarnings(\"ignore\")"
   ]
  },
  {
   "cell_type": "code",
   "execution_count": 2,
   "metadata": {},
   "outputs": [],
   "source": [
    "# any general notebook setup, like log formatting\n",
    "!pip install pyarrow\n",
    "!pip install geopandas\n",
    "!pip install plotly==5.8.0"
   ]
  },
  {
   "cell_type": "code",
   "execution_count": 3,
   "metadata": {},
   "outputs": [],
   "source": [
    "#urls\n",
    "TAXI_URL = \"https://www.nyc.gov/site/tlc/about/tlc-trip-record-data.page\"\n",
    "\n",
    "#local csvs\n",
    "UBER_DATA = \"uber_rides_sample.csv\"\n",
    "WEATHER_CSV = [\"2015_weather.csv\",\"2014_weather.csv\",\"2013_weather.csv\",\"2012_weather.csv\",\"2011_weather.csv\",\"2010_weather.csv\",\"2009_weather.csv\"]\n",
    "\n",
    "#coords\n",
    "NEW_YORK_BOX_COORDS = ((40.560445, -74.242330), (40.908524, -73.717047))\n",
    "\n",
    "DATABASE_URL = \"sqlite:///project.db\"\n",
    "DATABASE_SCHEMA_FILE = \"schema.sql\"\n",
    "QUERY_DIRECTORY = \"queries\""
   ]
  },
  {
   "cell_type": "markdown",
   "metadata": {},
   "source": [
    "## Part 1: Data Preprocessing"
   ]
  },
  {
   "cell_type": "markdown",
   "metadata": {},
   "source": [
    "_A checklist of requirements to keep you on track. Remove this whole cell before submitting the project. The order of these tasks aren't necessarily the order in which they need to be done. It's okay to do them in an order that makes sense to you._\n",
    "\n",
    "* [ ] Define a function that calculates the distance between two coordinates in kilometers that **only uses the `math` module** from the standard library.\n",
    "* [ ] Taxi data:\n",
    "    * [ ] Use the `re` module, and the packages `requests`, BeautifulSoup (`bs4`), and (optionally) `pandas` to programmatically download the required CSV files & load into memory.\n",
    "    * You may need to do this one file at a time - download, clean, sample. You can cache the sampling by saving it as a CSV file (and thereby freeing up memory on your computer) before moving onto the next file. \n",
    "* [ ] Weather & Uber data:\n",
    "    * [ ] Download the data manually in the link provided in the project doc.\n",
    "* [ ] All data:\n",
    "    * [ ] Load the data using `pandas`\n",
    "    * [ ] Clean the data, including:\n",
    "        * Remove unnecessary columns\n",
    "        * Remove invalid data points (take a moment to consider what's invalid)\n",
    "        * Normalize column names\n",
    "        * (Taxi & Uber data) Remove trips that start and/or end outside the designated [coordinate box](http://bboxfinder.com/#40.560445,-74.242330,40.908524,-73.717047)\n",
    "    * [ ] (Taxi data) Sample the data so that you have roughly the same amount of data points over the given date range for both Taxi data and Uber data.\n",
    "* [ ] Weather data:\n",
    "    * [ ] Split into two `pandas` DataFrames: one for required hourly data, and one for the required daily daya.\n",
    "    * [ ] You may find that the weather data you need later on does not exist at the frequency needed (daily vs hourly). You may calculate/generate samples from one to populate the other. Just document what you’re doing so we can follow along. "
   ]
  },
  {
   "cell_type": "markdown",
   "metadata": {},
   "source": [
    "### Calculating distance\n",
    "_**TODO:** To find the trip distance by transfering coordinates (degrees) into the distance in kilometers._\n",
    "\n",
    "_step1: get the latitude and longitude from the coordinates and transfer from degrees to radians._\n",
    "\n",
    "_step2: get the distance of two latitudes and longitudes from step1._\n",
    "\n",
    "_step3: import the results from step2 into the formal equation of calculating distance._\n",
    "\n",
    "_step4: import a new column \"distance\" into the dataframe with the result of step3._\n",
    "\n",
    "_NOTE: suppose the radius of earth in kilometers is 6378._"
   ]
  },
  {
   "cell_type": "code",
   "execution_count": 4,
   "metadata": {},
   "outputs": [],
   "source": [
    "def calculate_distance(from_coord, to_coord):\n",
    "    \n",
    "    #step1:get the latitude and longitude from the coordinates and transfer from degrees to radians.\n",
    "    pick_lat = from_coord[\"pickup_latitude\"].map(radians)\n",
    "    pick_long = from_coord[\"pickup_longitude\"].map(radians)\n",
    "    drop_lat = to_coord[\"dropoff_latitude\"].map(radians)\n",
    "    drop_long = to_coord[\"dropoff_longitude\"].map(radians)\n",
    "    \n",
    "    #step2: get the distance of two latitudes and longitudes from step1.\n",
    "    distance_long = pick_long - drop_long\n",
    "    distance_lat = pick_lat - drop_lat\n",
    "    \n",
    "    #step3: import the results from step2 into the formal equation of calculating distance.\n",
    "    x = ((distance_lat / 2).map(sin))**2 + (pick_lat).map(cos) * (drop_lat).map(cos) * ((distance_long / 2).map(sin))**2\n",
    "    c = 2 * (x.map(sqrt)).map(asin)\n",
    "    r = 6378 # Radius of earth in kilometers\n",
    "    \n",
    "    return c*r\n"
   ]
  },
  {
   "cell_type": "code",
   "execution_count": 5,
   "metadata": {},
   "outputs": [],
   "source": [
    "def add_distance_column(dataframe):\n",
    "    #step4: import a new column \"distance\" into the dataframe with the result of step3.\n",
    "    from_coord = dataframe[[\"pickup_latitude\",\"pickup_longitude\"]]\n",
    "    to_coord = dataframe[[\"dropoff_latitude\",\"dropoff_longitude\"]]\n",
    "    \n",
    "    dataframe[\"distance\"] = calculate_distance(from_coord, to_coord)\n",
    "    dataframe[\"distance\"] = dataframe[\"distance\"].astype(\"float32\")\n",
    "    \n",
    "    # remove distance = 0\n",
    "    dataframe = dataframe[dataframe['distance']>0.000001]\n",
    "    return dataframe"
   ]
  },
  {
   "cell_type": "markdown",
   "metadata": {},
   "source": [
    "### Processing Taxi Data\n",
    "\n",
    "_**TODO:** Downloand, Clean, and Sample Yellow Taxi Trip Records._\n",
    "\n",
    "_**step1:** get source data from the website: 78 \"Yellow Taxi Trip Records\" parquet files (from 2009.01 to 2015.06)._\n",
    "\n",
    "_**step2:** upzip taxi_zones file._\n",
    "\n",
    "_**step3:** Clean data: normalize column names, remove unneccessary columns and data points by requirements, standardize the data type._\n",
    "            \n",
    "_**step4:** Sample data: according to the 200,000 samples in uber data, each month we select 2564 samples from the taxi data._\n",
    "\n",
    "_**step5:** Create a gigantic dataframe combining cleaned data in every month._"
   ]
  },
  {
   "cell_type": "code",
   "execution_count": 6,
   "metadata": {},
   "outputs": [],
   "source": [
    "def find_taxi_parquet_links():\n",
    "    \n",
    "    response = requests.get(TAXI_URL)\n",
    "    html = response.content\n",
    "    soup = bs4.BeautifulSoup(html, \"html.parser\") # Use BeautifulSoup to \"pretty\"-print the HTML we downloaded\n",
    "    yellow_a_tags = soup.find_all(\"a\", attrs={\"title\": \"Yellow Taxi Trip Records\"})\n",
    "    result = [a[\"href\"] for a in yellow_a_tags]\n",
    "    # Only get the links for yellow taxi data between 2009-01 and 2015-06\n",
    "    pattern = re.compile(\n",
    "    r\"yellow_tripdata_20((15-0([1-6]))|(09-(\\d{2}))|(1[0-4]-(\\d{2}))).parquet\"\n",
    "    )\n",
    "    links = []\n",
    "    for link in result:\n",
    "        match = pattern.search(link)\n",
    "        if match:\n",
    "            links.append(match.string) \n",
    "    return links"
   ]
  },
  {
   "cell_type": "code",
   "execution_count": 7,
   "metadata": {},
   "outputs": [],
   "source": [
    "def get_and_clean_month_taxi_data(url):\n",
    "\n",
    "    df = pd.read_parquet(url) \n",
    "\n",
    "    taxi_zones = gpd.read_file(filename='taxi_zones.zip', engine='fiona')\n",
    "    taxi_zones = taxi_zones.to_crs(4326)\n",
    "    # Extract x, y in the coordinates as longitude and latitude\n",
    "    taxi_zones['longitude'] = taxi_zones.centroid.x \n",
    "    taxi_zones['latitude'] = taxi_zones.centroid.y\n",
    "\n",
    "    # Convert PULocationID and DOLocationID to pickup_latitude, pickup_longitude, dropoff_latitude, and dropoff_longitude\n",
    "    if 'PULocationID' in df.columns:\n",
    "        df['pickup_latitude'] = df['PULocationID'].map(taxi_zones['latitude'])\n",
    "        df['pickup_longitude'] = df['PULocationID'].map(taxi_zones['longitude'])\n",
    "    if 'DOLocationID' in df.columns:\n",
    "        df['dropoff_latitude'] = df['DOLocationID'].map(taxi_zones['latitude'])\n",
    "        df['dropoff_longitude'] = df['DOLocationID'].map(taxi_zones['longitude'])\n",
    "        \n",
    "    # Set all column names to lower case    \n",
    "    df = df.rename(columns=str.lower)\n",
    "    \n",
    "    # Normalize column names\n",
    "    df.rename(columns={'tpep_pickup_datetime':'pickup_datetime','trip_pickup_datetime':'pickup_datetime',\n",
    "                       'tpep_dropoff_datetime':'dropoff_datetime','trip_dropoff_datetime':'dropoff_datetime',\n",
    "                       'start_lon':'pickup_longitude', 'start_lat':'pickup_latitude', \n",
    "                       'end_lon':'dropoff_longitude', 'end_lat':'dropoff_latitude','tip_amt':'tip_amount'}, inplace=True)\n",
    "    \n",
    "    # Remove invalid data points\n",
    "    df.dropna(subset=['pickup_latitude','pickup_longitude','dropoff_latitude','dropoff_longitude','tip_amount'],inplace=True)\n",
    "    df = df[df['passenger_count'] >= 1]\n",
    "    \n",
    "    # Remove unnecessary columns\n",
    "    df = df[['pickup_datetime','pickup_longitude','pickup_latitude','dropoff_longitude','dropoff_latitude','tip_amount']]\n",
    "\n",
    "    # Remove trips that start and/or end outside the designated coordinate box (NEW_YORK_BOX_COORDS)\n",
    "    df = df[(df['pickup_latitude'] >= NEW_YORK_BOX_COORDS[0][0]) & (df['pickup_latitude'] <= NEW_YORK_BOX_COORDS[1][0])\n",
    "            & (df['pickup_longitude'] >= NEW_YORK_BOX_COORDS[0][1]) & (df['pickup_longitude'] <= NEW_YORK_BOX_COORDS[1][1])]\n",
    "    df = df[(df['dropoff_latitude'] >= NEW_YORK_BOX_COORDS[0][0]) & (df['dropoff_latitude'] <= NEW_YORK_BOX_COORDS[1][0])\n",
    "            & (df['dropoff_longitude'] >= NEW_YORK_BOX_COORDS[0][1]) & (df['dropoff_longitude'] <= NEW_YORK_BOX_COORDS[1][1])]\n",
    "\n",
    "\n",
    "    # Sample\n",
    "    df = df.sample(n=2564)\n",
    "    \n",
    "    # Use appropriate type for each column\n",
    "    df = df.reset_index(drop=True)\n",
    "    df['pickup_datetime'] = pd.to_datetime(df['pickup_datetime'])\n",
    "    df.iloc[:,1:7] = df.iloc[:,1:7].astype(\"float32\")\n",
    "    return df"
   ]
  },
  {
   "cell_type": "code",
   "execution_count": 8,
   "metadata": {},
   "outputs": [],
   "source": [
    "def get_and_clean_taxi_data():\n",
    "    all_taxi_dataframes = []\n",
    "    \n",
    "    all_parquet_urls = find_taxi_parquet_links()\n",
    "    for parquet_url in tqdm(all_parquet_urls):\n",
    "        dataframe = get_and_clean_month_taxi_data(parquet_url)\n",
    "        add_distance_column(dataframe)\n",
    "        \n",
    "        all_taxi_dataframes.append(dataframe)\n",
    "        \n",
    "    # create one gigantic dataframe with data from every month needed\n",
    "    taxi_data = pd.concat(all_taxi_dataframes)\n",
    "        \n",
    "    return taxi_data"
   ]
  },
  {
   "cell_type": "markdown",
   "metadata": {},
   "source": [
    "### Processing Uber Data\n",
    "\n",
    "_**TODO:** Get cleaned Uber Rides Sample records._\n",
    "\n",
    "_**step1:** Remove unneccessary columns and data points by requirements, standardize the data type._\n",
    "            \n",
    "_**step2:** Create a dataframe with cleaned datapoints._"
   ]
  },
  {
   "cell_type": "code",
   "execution_count": 9,
   "metadata": {},
   "outputs": [],
   "source": [
    "def load_and_clean_uber_data(csv_file):\n",
    "    df = pd.read_csv(csv_file)\n",
    "    \n",
    "    # Remove unnecessary columns\n",
    "    df = df[['pickup_datetime','pickup_longitude','pickup_latitude','dropoff_longitude','dropoff_latitude']]\n",
    "    \n",
    "    # Remove trips that start and/or end outside the designated coordinate box (NEW_YORK_BOX_COORDS)\n",
    "    df = df[(df['pickup_latitude'] >= NEW_YORK_BOX_COORDS[0][0]) & (df['pickup_latitude'] <= NEW_YORK_BOX_COORDS[1][0])\n",
    "            & (df['pickup_longitude'] >= NEW_YORK_BOX_COORDS[0][1]) & (df['pickup_longitude'] <= NEW_YORK_BOX_COORDS[1][1])]\n",
    "    \n",
    "    # Use appropriate type for each column\n",
    "    df['pickup_datetime'] = pd.to_datetime(df['pickup_datetime'])\n",
    "    df.iloc[:,1:5] = df.iloc[:,1:5].astype(\"float32\")\n",
    "    return df"
   ]
  },
  {
   "cell_type": "code",
   "execution_count": 10,
   "metadata": {},
   "outputs": [],
   "source": [
    "def get_uber_data():\n",
    "    uber_dataframe = load_and_clean_uber_data(UBER_DATA)\n",
    "    add_distance_column(uber_dataframe)\n",
    "    return uber_dataframe"
   ]
  },
  {
   "cell_type": "markdown",
   "metadata": {},
   "source": [
    "### Processing Weather Data\n",
    "\n",
    "_**TODO:** Get claned Weather data records by creating two dataFrames: one for required hourly data, and one for the required daily data._\n",
    "\n",
    "_**step1:** Normalize the columns, remove unneccessary columns and data points by requirements, standardize the data type, and fillout the required blanks._\n",
    "            \n",
    "_**step2:** Create two required dataframes with cleaned datapoints._"
   ]
  },
  {
   "cell_type": "code",
   "execution_count": 11,
   "metadata": {},
   "outputs": [],
   "source": [
    "def clean_month_weather_data_hourly(csv_file):\n",
    "    \n",
    "    df = pd.read_csv(csv_file)\n",
    "    \n",
    "    # Get the required columns\n",
    "    df = df[[\"DATE\",\"HourlyPrecipitation\", \"HourlyWindSpeed\"]]\n",
    "    \n",
    "    # Normalize the 'Precipitation' columns into numeric form (dtype: float32) and fillout the blank with value 0\n",
    "    df[\"HourlyPrecipitation\"].fillna(value = 0, inplace = True) # assume HourlyPrecipitation is 0 if the value is NaN\n",
    "    df[df[\"HourlyPrecipitation\"]==\"T\"] = float(0.00001) # T is trivial, so use 0.00001 to replace T\n",
    "    df[df[\"HourlyPrecipitation\"]==\"M\"] = np.nan # M represents missing value, so leave NaN here\n",
    "    df['HourlyPrecipitation'] = pd.to_numeric(df['HourlyPrecipitation'], errors = \"coerce\") \n",
    "    \n",
    "    # Fill out the missing blank for 'WindSpeed' with 0\n",
    "    df[\"HourlyWindSpeed\"].fillna(value = 0, inplace = True) # assume WindSpeed is 0 if the value is NaN\n",
    "    \n",
    "    # Normalize the 'DATE' columns into datetime form\n",
    "    df[\"DATE\"] = pd.to_datetime(df[\"DATE\"])\n",
    "    df = df.astype({\"HourlyWindSpeed\":\"int8\",\"HourlyPrecipitation\":\"float32\"})\n",
    "    \n",
    "    return df"
   ]
  },
  {
   "cell_type": "code",
   "execution_count": 12,
   "metadata": {},
   "outputs": [],
   "source": [
    "def clean_month_weather_data_daily(csv_file):\n",
    "    df = clean_month_weather_data_hourly(csv_file)\n",
    "    df['DATE'] = pd.to_datetime(df['DATE'], errors='coerce').dt.date\n",
    "    df_windspeed = df.groupby('DATE')['HourlyWindSpeed'].mean()\n",
    "    df_precipitation = df.groupby('DATE')['HourlyPrecipitation'].sum()\n",
    "    \n",
    "    df = pd.merge(df_windspeed,df_precipitation,on='DATE')\n",
    "    df = df.rename(columns={'HourlyWindSpeed': 'DailyWindSpeed', 'HourlyPrecipitation': 'DailyPrecipitation'})\n",
    "    df = df.astype({\"DailyWindSpeed\":\"int8\",\"DailyPrecipitation\":\"float32\"})\n",
    "    return df"
   ]
  },
  {
   "cell_type": "code",
   "execution_count": 13,
   "metadata": {},
   "outputs": [],
   "source": [
    "def load_and_clean_weather_data():\n",
    "    hourly_dataframes = []\n",
    "    daily_dataframes = []\n",
    "    \n",
    "    # add the name manually\n",
    "    weather_csv_files = [\"2015_weather.csv\",\"2014_weather.csv\",\"2013_weather.csv\",\"2012_weather.csv\",\"2011_weather.csv\",\"2010_weather.csv\",\"2009_weather.csv\"]\n",
    "    \n",
    "    for csv_file in tqdm(weather_csv_files):\n",
    "        hourly_dataframe = clean_month_weather_data_hourly(csv_file)\n",
    "        daily_dataframe = clean_month_weather_data_daily(csv_file)\n",
    "        hourly_dataframes.append(hourly_dataframe)\n",
    "        daily_dataframes.append(daily_dataframe)\n",
    "        \n",
    "    # create two dataframes with hourly & daily data from every month\n",
    "    hourly_data = pd.concat(hourly_dataframes)\n",
    "    daily_data = pd.concat(daily_dataframes)\n",
    "    \n",
    "    return hourly_data, daily_data"
   ]
  },
  {
   "cell_type": "markdown",
   "metadata": {},
   "source": [
    "### Process All Data\n",
    "\n",
    "_This is where you can actually execute all the required functions._\n",
    "\n",
    "_**TODO:** Write some prose that tells the reader what you're about to do here._"
   ]
  },
  {
   "cell_type": "code",
   "execution_count": null,
   "metadata": {},
   "outputs": [
    {
     "name": "stderr",
     "output_type": "stream",
     "text": [
      "\r",
      "  1%|▏         | 1/78 [00:31<41:02, 31.98s/it]"
     ]
    }
   ],
   "source": [
    "taxi_data = get_and_clean_taxi_data()"
   ]
  },
  {
   "cell_type": "code",
   "execution_count": null,
   "metadata": {},
   "outputs": [],
   "source": [
    "uber_data = get_uber_data()"
   ]
  },
  {
   "cell_type": "code",
   "execution_count": null,
   "metadata": {},
   "outputs": [],
   "source": [
    "hourly_weather_data, daily_weather_data = load_and_clean_weather_data()"
   ]
  },
  {
   "cell_type": "code",
   "execution_count": null,
   "metadata": {},
   "outputs": [],
   "source": [
    "daily_weather_data"
   ]
  },
  {
   "cell_type": "markdown",
   "metadata": {},
   "source": [
    "## Part 2: Storing Cleaned Data\n",
    "\n",
    "_Write some prose that tells the reader what you're about to do here._"
   ]
  },
  {
   "cell_type": "code",
   "execution_count": null,
   "metadata": {},
   "outputs": [],
   "source": [
    "engine = db.create_engine(DATABASE_URL)"
   ]
  },
  {
   "cell_type": "code",
   "execution_count": null,
   "metadata": {},
   "outputs": [],
   "source": [
    "engine.execute(\"DROP TABLE uber_trips\")"
   ]
  },
  {
   "cell_type": "code",
   "execution_count": null,
   "metadata": {},
   "outputs": [],
   "source": [
    "HOURLY_WEATHER_SCHEMA = \"\"\"\n",
    "CREATE TABLE IF NOT EXISTS hourly_weather\n",
    "(\n",
    "    id INTEGER PRIMARY KEY,\n",
    "    DATE DATE,\n",
    "    HourlyWindSpeed INTETER,\n",
    "    HourlyPrecipitation FLOAT\n",
    ")\n",
    "\"\"\"\n",
    "\n",
    "DAILY_WEATHER_SCHEMA = \"\"\"\n",
    "CREATE TABLE IF NOT EXISTS daily_weather\n",
    "(\n",
    "    id INTEGER PRIMARY KEY,\n",
    "    DATE DATE,\n",
    "    DailyWindSpeed INTETER,\n",
    "    DailyPrecipitation FLOAT\n",
    ")\n",
    "\"\"\"\n",
    "\n",
    "TAXI_TRIPS_SCHEMA = \"\"\"\n",
    "CREATE TABLE IF NOT EXISTS taxi_trips\n",
    "(\n",
    "    id INTEGER PRIMARY KEY,\n",
    "    pickup_datetime DATE,\n",
    "    pickup_longitude FLOAT,\n",
    "    pickup_latitude FLOAT,\n",
    "    dropoff_longitude FLOAT,\n",
    "    dropoff_latitude FLOAT,\n",
    "    tip_amount FLOAT,\n",
    "    distance FLOAT\n",
    ")\n",
    "\"\"\"\n",
    "\n",
    "UBER_TRIPS_SCHEMA = \"\"\"\n",
    "CREATE TABLE IF NOT EXISTS uber_trips\n",
    "(\n",
    "    id INTEGER PRIMARY KEY,\n",
    "    pickup_datetime DATE,\n",
    "    pickup_longitude FLOAT,\n",
    "    pickup_latitude FLOAT,\n",
    "    dropoff_longitude FLOAT,\n",
    "    dropoff_latitude FLOAT,\n",
    "    distance FLOAT\n",
    ")\n",
    "\"\"\""
   ]
  },
  {
   "cell_type": "code",
   "execution_count": null,
   "metadata": {},
   "outputs": [],
   "source": [
    "# create that required schema.sql file\n",
    "with open(DATABASE_SCHEMA_FILE, \"w\") as f:\n",
    "    f.write(HOURLY_WEATHER_SCHEMA)\n",
    "    f.write(DAILY_WEATHER_SCHEMA)\n",
    "    f.write(TAXI_TRIPS_SCHEMA)\n",
    "    f.write(UBER_TRIPS_SCHEMA)"
   ]
  },
  {
   "cell_type": "code",
   "execution_count": null,
   "metadata": {},
   "outputs": [],
   "source": [
    "# create the tables with the schema files\n",
    "with engine.connect() as connection:\n",
    "    pass"
   ]
  },
  {
   "cell_type": "markdown",
   "metadata": {},
   "source": [
    "### Add Data to Database\n",
    "\n",
    "_**TODO:** Write some prose that tells the reader what you're about to do here._"
   ]
  },
  {
   "cell_type": "code",
   "execution_count": null,
   "metadata": {},
   "outputs": [],
   "source": [
    "def write_dataframes_to_table(table_to_df_dict):\n",
    "    for table, df in table_to_df_dict.items():\n",
    "        df.to_sql(table, con=engine, if_exists=\"append\", index=False)"
   ]
  },
  {
   "cell_type": "code",
   "execution_count": null,
   "metadata": {},
   "outputs": [],
   "source": [
    "map_table_name_to_dataframe = {\n",
    "    \"taxi_trips\": taxi_data,\n",
    "    \"uber_trips\": uber_data,\n",
    "    \"hourly_weather\": hourly_weather_data,\n",
    "    \"daily_weather\": daily_weather_data,\n",
    "}"
   ]
  },
  {
   "cell_type": "code",
   "execution_count": null,
   "metadata": {},
   "outputs": [],
   "source": [
    "write_dataframes_to_table(map_table_name_to_dataframe)"
   ]
  },
  {
   "cell_type": "markdown",
   "metadata": {},
   "source": [
    "## Part 3: Understanding the Data"
   ]
  },
  {
   "cell_type": "markdown",
   "metadata": {},
   "source": [
    "_A checklist of requirements to keep you on track. Remove this whole cell before submitting the project. The order of these tasks aren't necessarily the order in which they need to be done. It's okay to do them in an order that makes sense to you._\n",
    "\n",
    "* [ ] For 01-2009 through 06-2015, what hour of the day was the most popular to take a yellow taxi? The result should have 24 bins.\n",
    "* [ ] For the same time frame, what day of the week was the most popular to take an uber? The result should have 7 bins.\n",
    "* [ ] What is the 95% percentile of distance traveled for all hired trips during July 2013?\n",
    "* [ ] What were the top 10 days with the highest number of hired rides for 2009, and what was the average distance for each day?\n",
    "* [ ] Which 10 days in 2014 were the windiest, and how many hired trips were made on those days?\n",
    "* [ ] During Hurricane Sandy in NYC (Oct 29-30, 2012) and the week leading up to it, how many trips were taken each hour, and for each hour, how much precipitation did NYC receive and what was the sustained wind speed?"
   ]
  },
  {
   "cell_type": "code",
   "execution_count": null,
   "metadata": {},
   "outputs": [],
   "source": [
    "def write_query_to_file(query, outfile):\n",
    "    with open(QUERY_DIRECTORY + \"/\" + outfile, \"w\") as f:\n",
    "        f.write(query)"
   ]
  },
  {
   "cell_type": "markdown",
   "metadata": {},
   "source": [
    "### Query #1\n",
    "\n",
    "_**TODO:** Find the most popular hour of the day to take a yellow taxi from 01-2009 to 06-2015._"
   ]
  },
  {
   "cell_type": "code",
   "execution_count": null,
   "metadata": {},
   "outputs": [],
   "source": [
    "QUERY_1 = \"\"\"\n",
    "SELECT strftime(\"%H\", pickup_datetime) AS hours,\n",
    "COUNT(*) AS hour_frequency\n",
    "FROM taxi_trips\n",
    "GROUP BY hours\n",
    "ORDER BY hour_frequency desc\n",
    "\"\"\""
   ]
  },
  {
   "cell_type": "code",
   "execution_count": null,
   "metadata": {},
   "outputs": [],
   "source": [
    "engine.execute(QUERY_1).fetchall()"
   ]
  },
  {
   "cell_type": "code",
   "execution_count": null,
   "metadata": {},
   "outputs": [],
   "source": [
    "write_query_to_file(QUERY_1, \"popular_hours_of_taxi.sql\")"
   ]
  },
  {
   "cell_type": "markdown",
   "metadata": {},
   "source": [
    "### Query #2\n",
    "\n",
    "_**TODO:** Find the most popular day of the week to take an uber from 01-2009 to 06-2015._"
   ]
  },
  {
   "cell_type": "code",
   "execution_count": null,
   "metadata": {},
   "outputs": [],
   "source": [
    "QUERY_2 = \"\"\"\n",
    "SELECT strftime(\"%w\", pickup_datetime) AS days,\n",
    "COUNT(*) AS day_frequency\n",
    "FROM uber_trips\n",
    "GROUP BY days\n",
    "ORDER BY day_frequency DESC;\n",
    "\n",
    "\"\"\""
   ]
  },
  {
   "cell_type": "code",
   "execution_count": null,
   "metadata": {},
   "outputs": [],
   "source": [
    "engine.execute(QUERY_2).fetchall()"
   ]
  },
  {
   "cell_type": "code",
   "execution_count": null,
   "metadata": {},
   "outputs": [],
   "source": [
    "write_query_to_file(QUERY_2, \"popular_days_of_uber.sql\")"
   ]
  },
  {
   "cell_type": "markdown",
   "metadata": {},
   "source": [
    "### Query #3\n",
    "\n",
    "_**TODO:** Find the 95% percentile of distance traveled for all hired trips during July 2013._"
   ]
  },
  {
   "cell_type": "code",
   "execution_count": null,
   "metadata": {},
   "outputs": [],
   "source": [
    "QUERY_3 = \"\"\"\n",
    "WITH hired_trips AS\n",
    "(\n",
    "    SELECT pickup_datetime, distance FROM taxi_trips\n",
    "    WHERE pickup_datetime BETWEEN \"2013-07-01 00:00:00\" AND \"2013-07-31 23:59:59\"\n",
    "    UNION ALL\n",
    "    SELECT pickup_datetime, distance FROM uber_trips\n",
    "    WHERE pickup_datetime BETWEEN \"2013-07-01 00:00:00\" AND \"2013-07-31 23:59:59\"\n",
    ")\n",
    "\n",
    "SELECT distance\n",
    "FROM hired_trips\n",
    "ORDER BY distance desc\n",
    "\n",
    "LIMIT 1\n",
    "OFFSET (SELECT COUNT(*) FROM hired_trips) * 5/100 \n",
    "\n",
    "\"\"\""
   ]
  },
  {
   "cell_type": "code",
   "execution_count": null,
   "metadata": {},
   "outputs": [],
   "source": [
    "engine.execute(QUERY_3).fetchall()"
   ]
  },
  {
   "cell_type": "code",
   "execution_count": null,
   "metadata": {},
   "outputs": [],
   "source": [
    "write_query_to_file(QUERY_3, \"95_percentile_of_hired_trips.sql\")"
   ]
  },
  {
   "cell_type": "markdown",
   "metadata": {},
   "source": [
    "### Query #4\n",
    "\n",
    "_**TODO 1:** Find the top 10 days with the highest number of hired rides for 2009._\n",
    "\n",
    "_**TODO 2:** Find the average distance for each day._"
   ]
  },
  {
   "cell_type": "code",
   "execution_count": null,
   "metadata": {},
   "outputs": [],
   "source": [
    "QUERY_4 = \"\"\"\n",
    "WITH hired_trips AS\n",
    "(\n",
    "    SELECT pickup_datetime, distance FROM taxi_trips\n",
    "    WHERE pickup_datetime BETWEEN \"2009-01-01 00:00:00\" AND \"2009-12-31 23:59:59\"\n",
    "    UNION ALL\n",
    "    SELECT pickup_datetime, distance FROM uber_trips\n",
    "    WHERE pickup_datetime BETWEEN \"2009-01-01 00:00:00\" AND \"2009-12-31 23:59:59\"\n",
    ")\n",
    "\n",
    "SELECT DATE(pickup_datetime) AS dates,\n",
    "AVG(distance) AS average_distance,\n",
    "COUNT(*) AS number_of_hired_rides\n",
    "\n",
    "FROM hired_trips\n",
    "\n",
    "GROUP BY dates\n",
    "ORDER BY number_of_hired_rides desc\n",
    "\n",
    "LIMIT 10\n",
    "\n",
    "\n",
    "\"\"\""
   ]
  },
  {
   "cell_type": "code",
   "execution_count": null,
   "metadata": {},
   "outputs": [],
   "source": [
    "engine.execute(QUERY_4).fetchall()"
   ]
  },
  {
   "cell_type": "code",
   "execution_count": null,
   "metadata": {},
   "outputs": [],
   "source": [
    "write_query_to_file(QUERY_4, \"top_ten_days_of_hired_trips.sql\")"
   ]
  },
  {
   "cell_type": "markdown",
   "metadata": {},
   "source": [
    "### Query #5\n",
    "\n",
    "_**TODO 1:** Find the windiest 10 days in 2014._\n",
    "\n",
    "_**TODO 2:** Find the number of hired trips on those windiest 10 days._"
   ]
  },
  {
   "cell_type": "code",
   "execution_count": null,
   "metadata": {},
   "outputs": [],
   "source": [
    "QUERY_5 = \"\"\"\n",
    "WITH hired_trips AS\n",
    "(\n",
    "    SELECT pickup_datetime AS date\n",
    "    FROM taxi_trips\n",
    "    \n",
    "    UNION ALL\n",
    "    \n",
    "    SELECT pickup_datetime AS date\n",
    "    FROM uber_trips\n",
    ")\n",
    "\n",
    "SELECT DATE(date), COUNT(*) AS number_of_hired_trips\n",
    "FROM hired_trips\n",
    "GROUP BY DATE(date)\n",
    "HAVING DATE(date) IN (\n",
    "SELECT DATE FROM daily_weather \n",
    "WHERE DATE BETWEEN \"2014-01-01\" AND \"2014-12-31\"\n",
    "ORDER BY DailyWindSpeed desc \n",
    "LIMIT 10\n",
    ")\n",
    "\n",
    "\"\"\""
   ]
  },
  {
   "cell_type": "code",
   "execution_count": null,
   "metadata": {},
   "outputs": [],
   "source": [
    "engine.execute(QUERY_5).fetchall()"
   ]
  },
  {
   "cell_type": "code",
   "execution_count": null,
   "metadata": {},
   "outputs": [],
   "source": [
    "write_query_to_file(QUERY_5, \"10_windiest_days.sql\")"
   ]
  },
  {
   "cell_type": "markdown",
   "metadata": {},
   "source": [
    "### Query #6\n",
    "\n",
    "_**TODO 1:** Find the number of trips taken each hour from Oct 29, 2012 to Oct 30, 2012, and the week leading up to it,._\n",
    "\n",
    "_**TODO 2:** Find the amount of precipitation and the sustained wind speed for each hour from above days._"
   ]
  },
  {
   "cell_type": "code",
   "execution_count": null,
   "metadata": {},
   "outputs": [],
   "source": [
    "QUERY_6 = \"\"\"\n",
    "WITH hired_trips AS\n",
    "(\n",
    "    SELECT strftime('%Y-%m-%d %H', pickup_datetime) AS date\n",
    "    FROM taxi_trips\n",
    "    WHERE pickup_datetime BETWEEN \"2012-10-22 00:00:00\" AND \"2012-11-06 23:59:59\"\n",
    "    \n",
    "    UNION ALL\n",
    "    \n",
    "    SELECT strftime('%Y-%m-%d %H', pickup_datetime) AS date\n",
    "    FROM uber_trips\n",
    "    WHERE pickup_datetime BETWEEN \"2012-10-22 00:00:00\" AND \"2012-11-06 23:59:59\"\n",
    ")\n",
    "\n",
    "SELECT strftime('%Y-%m-%d %H', hw.date) AS hour, count(ht.date) AS number_of_hired_trips, hw.HourlyWindSpeed, hw.HourlyPrecipitation\n",
    "FROM hourly_weather hw LEFT JOIN hired_trips ht\n",
    "ON hour = ht.date\n",
    "WHERE hw.date BETWEEN \"2012-10-22 00:00:00\" AND \"2012-11-06 23:59:59\"\n",
    "GROUP BY hour\n",
    "\"\"\""
   ]
  },
  {
   "cell_type": "code",
   "execution_count": null,
   "metadata": {},
   "outputs": [],
   "source": [
    "engine.execute(QUERY_6).fetchall()"
   ]
  },
  {
   "cell_type": "code",
   "execution_count": null,
   "metadata": {},
   "outputs": [],
   "source": [
    "write_query_to_file(QUERY_6, \"trips_precipitation_windspeed.sql\")"
   ]
  },
  {
   "cell_type": "markdown",
   "metadata": {},
   "source": [
    "## Part 4: Visualizing the Data\n",
    "\n",
    "_A checklist of requirements to keep you on track. Remove this whole cell before submitting the project. The order of these tasks aren't necessarily the order in which they need to be done. It's okay to do them in an order that makes sense to you._\n",
    "\n",
    "* [ ] Create an appropriate visualization for the first query/question in part 3\n",
    "* [ ] Create a visualization that shows the average distance traveled per month (regardless of year - so group by each month). Include the 90% confidence interval around the mean in the visualization\n",
    "* [ ] Define three lat/long coordinate boxes around the three major New York airports: LGA, JFK, and EWR (you can use bboxfinder to help). Create a visualization that compares what day of the week was most popular for drop offs for each airport.\n",
    "* [ ] Create a heatmap of all hired trips over a map of the area. Consider using KeplerGL or another library that helps generate geospatial visualizations.\n",
    "* [ ] Create a scatter plot that compares tip amount versus distance.\n",
    "* [ ] Create another scatter plot that compares tip amount versus precipitation amount.\n",
    "\n",
    "_Be sure these cells are executed so that the visualizations are rendered when the notebook is submitted._"
   ]
  },
  {
   "cell_type": "markdown",
   "metadata": {},
   "source": [
    "### Visualization 1\n",
    "\n",
    "_**TODO:** Create an appropriate visualization for the first query/question in part 3._"
   ]
  },
  {
   "cell_type": "code",
   "execution_count": null,
   "metadata": {},
   "outputs": [],
   "source": [
    "def plot_visual_1(dataframe):\n",
    "    \"\"\"Get the most popular hour of the day to take a Yellow Taxi\"\"\"\n",
    "    plot_title = \"Total Number of Taxi Trips(Hours)\"\n",
    "    x_label = \"Hours\"\n",
    "    y_label = \"Total Number of Taxi Trips\"\n",
    "    dataframe.plot(kind=\"bar\",x=\"hours\", y=\"hour_frequency\", title=plot_title, xlabel=x_label, ylabel=y_label)\n"
   ]
  },
  {
   "cell_type": "code",
   "execution_count": null,
   "metadata": {},
   "outputs": [],
   "source": [
    "def get_data_for_visual_1():\n",
    "    # Query SQL database for the data needed.\n",
    "    # You can put the data queried into a pandas dataframe, if you wish\n",
    "    dataframe = pd.read_sql_query(QUERY_1, engine)\n",
    "    df = dataframe.sort_values(by = \"hours\", ascending = True)\n",
    "    return df"
   ]
  },
  {
   "cell_type": "code",
   "execution_count": null,
   "metadata": {},
   "outputs": [],
   "source": [
    "dataframe1 = get_data_for_visual_1()\n",
    "plot_visual_1(dataframe1)"
   ]
  },
  {
   "cell_type": "markdown",
   "metadata": {},
   "source": [
    "### Visualization 2\n",
    "\n",
    "_**TODO 1:** Create a visualization that shows the average distance traveled per month (regardless of year - so group by each month)._\n",
    "\n",
    "_**TODO 2:** Include the 90% confidence interval around the mean in the visualization._\n"
   ]
  },
  {
   "cell_type": "code",
   "execution_count": null,
   "metadata": {},
   "outputs": [],
   "source": [
    "def plot_visual_2(dataframe):\n",
    "    \"\"\"Get the average distance traveled per month\"\"\"\n",
    "    plot_title = \"Average Distance Travelled(Month) With 90% Confidence Interval\"\n",
    "    x_label = \"Month\"\n",
    "    y_label = \"Average Distance\"\n",
    "    dataframe.plot(kind=\"bar\",x=\"month\", y=\"mean\", yerr = \"confidence inverval\", title=plot_title, xlabel=x_label, ylabel=y_label)"
   ]
  },
  {
   "cell_type": "code",
   "execution_count": null,
   "metadata": {},
   "outputs": [],
   "source": [
    "def get_data_for_visual_2():\n",
    "    # Query SQL database for the data needed.\n",
    "    QUERY_month = \"\"\"\n",
    "    WITH hired_trips AS\n",
    "    (\n",
    "    SELECT pickup_datetime, distance FROM taxi_trips\n",
    "    UNION ALL\n",
    "    SELECT pickup_datetime, distance FROM uber_trips\n",
    "    )\n",
    "    \n",
    "    SELECT strftime(\"%m\", pickup_datetime) month, SUM(distance) as distance_m\n",
    "          FROM hired_trips\n",
    "          GROUP BY strftime(\"%Y-%m\", pickup_datetime)\n",
    "    \n",
    "    \"\"\"\n",
    "    dataframe = pd.read_sql_query(QUERY_month, engine)\n",
    "    data = dataframe.groupby('month') # splite dataframe into 12 subdataframes by using group by month\n",
    "    \n",
    "    m = []\n",
    "    mean = []\n",
    "    cl = []\n",
    "    for x in data.groups:\n",
    "        month = data.get_group(x)\n",
    "        se = st.sem(month['distance_m'])\n",
    "        h = se * st.t.ppf((1 - 0.90) / 2, len(month)-1) # calculate the yerr for each month\n",
    "        \n",
    "        m.append(month['month'].iloc[0])\n",
    "        mean.append(np.mean(month['distance_m']))\n",
    "        cl.append(abs(h))\n",
    "    df = pd.DataFrame({'month': m,'mean': mean,'confidence inverval': cl}) # create a new dataframe contains month, average distance, and yerr\n",
    "    return df"
   ]
  },
  {
   "cell_type": "code",
   "execution_count": null,
   "metadata": {},
   "outputs": [],
   "source": [
    "dataframe2 = get_data_for_visual_2()\n",
    "plot_visual_2(dataframe2)"
   ]
  },
  {
   "cell_type": "markdown",
   "metadata": {},
   "source": [
    "### Visualization 3\n",
    "\n",
    "_**TODO 1:** Define three lat/long coordinate boxes around the three major New York airports: LGA, JFK, and EWR._\n",
    "\n",
    "_**TODO 2:** Create a visualization that compares what day of the week was most popular for drop offs for each airport._\n"
   ]
  },
  {
   "cell_type": "code",
   "execution_count": null,
   "metadata": {},
   "outputs": [],
   "source": [
    "def plot_visual_3(dataframe):\n",
    "    \"\"\"Plot the most popular day for drop offs for each airport\"\"\"\n",
    "    plot_title = \"Number of Trips on Each Day for Each Airport\"\n",
    "    x_label = \"Day\"\n",
    "    y_label = \"Number of trips for both taxi and uber\"\n",
    "    dataframe.plot(kind=\"bar\",x=\"day\", y=[\"LGA\",\"JFK\",\"EWR\"], title=plot_title, xlabel=x_label, ylabel=y_label)"
   ]
  },
  {
   "cell_type": "code",
   "execution_count": null,
   "metadata": {},
   "outputs": [],
   "source": [
    "def get_data_for_visual_3():\n",
    "    # Query SQL database for the data needed.\n",
    "    LGA_BOX_COORDS = (\"LGA\", -73.887830, 40.767336, -73.855815, 40.783066)\n",
    "    JFK_BOX_COORDS = (\"JFK\", -73.829498, 40.621421, -73.743668, 40.670655)\n",
    "    EWR_BOX_COORDS = (\"EWR\", -74.193144, 40.670778, -74.151688, 40.708525)\n",
    "    \n",
    "    BOX_COORDS = [LGA_BOX_COORDS, JFK_BOX_COORDS, EWR_BOX_COORDS]\n",
    "    \n",
    "    table = []\n",
    "    for x in BOX_COORDS:\n",
    "        QUERY = f\"\"\"\n",
    "        WITH hired_trips AS(\n",
    "        SELECT pickup_datetime AS date, dropoff_longitude, dropoff_latitude\n",
    "        FROM taxi_trips\n",
    "    \n",
    "        UNION ALL\n",
    "     \n",
    "        SELECT pickup_datetime AS date, dropoff_longitude, dropoff_latitude\n",
    "        FROM uber_trips\n",
    "        )\n",
    "        \n",
    "        SELECT strftime(\"%w\", date) AS day, count(*) AS {x[0]} FROM hired_trips\n",
    "        WHERE dropoff_longitude BETWEEN {x[1]} AND {x[3]}\n",
    "        AND dropoff_latitude BETWEEN {x[2]} AND {x[4]}\n",
    "        GROUP BY day\n",
    "        \"\"\"\n",
    "        table.append(pd.read_sql_query(QUERY, engine))\n",
    "        \n",
    "    df = pd.merge(pd.merge(table[0],table[1],on='day'),table[2],on='day') # merge three dataframes obtained from sql"
   ]
  },
  {
   "cell_type": "code",
   "execution_count": null,
   "metadata": {},
   "outputs": [],
   "source": [
    "dataframe3 = get_data_for_visual_3()\n",
    "plot_visual_3(dataframe3)"
   ]
  },
  {
   "cell_type": "markdown",
   "metadata": {},
   "source": [
    "### Visualization 4\n",
    "\n",
    "_**TODO:** Create a heatmap of all hired trips over a map of the area._\n"
   ]
  },
  {
   "cell_type": "code",
   "execution_count": null,
   "metadata": {},
   "outputs": [],
   "source": [
    "def plot_visual_4(dataframe):\n",
    "    \"\"\"Plot the heatmap of all hired trips over a map of the area\"\"\"\n",
    "    plot_title = \"Heatmap for All Hired Trips\"\n",
    "    fig = px.density_mapbox(dataframe, lat='latitude', lon='longitude', z='count',\n",
    "                        mapbox_style=\"open-street-map\")\n",
    "    fig.update_mapboxes(center_lat=40.730610)\n",
    "    fig.update_mapboxes(center_lon=-73.935242)\n",
    "    \n",
    "    #fig.update_layout(mapbox_bounds={\"west\": 40.560445, \"east\": 40.908524, \"south\": -73.717047, \"north\":-74.242330})\n",
    "    return fig"
   ]
  },
  {
   "cell_type": "code",
   "execution_count": null,
   "metadata": {},
   "outputs": [],
   "source": [
    "def get_data_for_visual_4():\n",
    "    # Query SQL database for the data needed.\n",
    "    QUERY = \"\"\"\n",
    "    WITH hired_trips AS(\n",
    "    SELECT pickup_longitude, pickup_latitude\n",
    "    FROM taxi_trips\n",
    "    \n",
    "    UNION ALL\n",
    "     \n",
    "    SELECT pickup_longitude, pickup_latitude\n",
    "    FROM uber_trips\n",
    "    )\n",
    "    \n",
    "    SELECT pickup_longitude, pickup_latitude\n",
    "    FROM hired_trips\n",
    "    \"\"\"\n",
    "    \n",
    "    df = pd.read_sql_query(QUERY, engine)\n",
    "    #df['location'] = df[[\"pickup_longitude\",\"pickup_latitude\"]].apply(tuple, axis=1)\n",
    "    data = df.groupby([\"pickup_longitude\",\"pickup_latitude\"]).size().to_frame()\n",
    "    data = data.reset_index()\n",
    "    data.columns = ['longitude', 'latitude', 'count']\n",
    "    data.to_csv('data.csv')\n",
    "    return data"
   ]
  },
  {
   "cell_type": "code",
   "execution_count": null,
   "metadata": {
    "scrolled": true
   },
   "outputs": [],
   "source": [
    "dataframe4 = get_data_for_visual_4()\n",
    "plot_visual_4(dataframe4)"
   ]
  },
  {
   "cell_type": "markdown",
   "metadata": {},
   "source": [
    "### Visualization 5\n",
    "\n",
    "_**TODO:** Create a scatter plot that compares tip amount versus distance._\n"
   ]
  },
  {
   "cell_type": "code",
   "execution_count": null,
   "metadata": {},
   "outputs": [],
   "source": [
    "def plot_visual_5(dataframe):\n",
    "    \"\"\"Plot the scatter of tip amount versus distance\"\"\"\n",
    "    plot_title = \"Tip Amount Versus Distance\"\n",
    "    x_label = \"Distance\"\n",
    "    y_label = \"Tip Amount\"\n",
    "    dataframe[(dataframe[\"distance\"]>=0) & (dataframe[\"tip_amount\"]>=0)].plot(kind=\"scatter\",x=\"distance\", y=\"tip_amount\", \n",
    "                                                                              title=plot_title, xlabel=x_label, ylabel = y_label, \n",
    "                                                                              alpha = 0.6, lw=0.01)"
   ]
  },
  {
   "cell_type": "code",
   "execution_count": null,
   "metadata": {},
   "outputs": [],
   "source": [
    "def get_data_for_visual_5():\n",
    "    QUERY_tip_distance = \"\"\"\n",
    "    SELECT tip_amount, distance\n",
    "    FROM taxi_trips\n",
    "    \"\"\"\n",
    "    dataframe = pd.read_sql_query(QUERY_tip_distance, engine)\n",
    "    return dataframe\n"
   ]
  },
  {
   "cell_type": "code",
   "execution_count": null,
   "metadata": {},
   "outputs": [],
   "source": [
    "dataframe5 = get_data_for_visual_5()\n",
    "plot_visual_5(dataframe5)"
   ]
  },
  {
   "cell_type": "markdown",
   "metadata": {},
   "source": [
    "### Visualization 6\n",
    "\n",
    "_**TODO:** Create another scatter plot that compares tip amount versus precipitation amount for Yellow Taxi rides._\n"
   ]
  },
  {
   "cell_type": "code",
   "execution_count": null,
   "metadata": {},
   "outputs": [],
   "source": [
    "def plot_visual_6(dataframe):\n",
    "    \"\"\"Plot the scatter of tip amount versus precipitation amount\"\"\"\n",
    "    plot_title = \"Heatmap for All Hired Trips\"\n",
    "    plot_title = \"Tip Amount Versus Precipitation\"\n",
    "    x_label = \"Precipitation\"\n",
    "    y_label = \"Tip Amount\"\n",
    "    # There may exist a confounder between tip amount and precipitation. \n",
    "    # For example, when precipitation = 0, it shows a good weather.\n",
    "    # People may more willing to go outside by uber or taxi, so the number of trips will much larger than that in rainning days, and the total tip amount at sunnyday is large.\n",
    "    # On the contrary, when precipitation is large, people may not willing to hang out, which may result only a few trips in that days, so the total tip amount at the stormy days is relatively low.\n",
    "    # Thus, we cannot drop any outliers only based on tips and precipitation.\n",
    "    dataframe.plot(kind=\"scatter\", x=\"precipitation\", y=\"tips\", title=plot_title, xlabel=x_label, ylabel = y_label, alpha = 0.6, lw=0.01)"
   ]
  },
  {
   "cell_type": "code",
   "execution_count": null,
   "metadata": {},
   "outputs": [],
   "source": [
    "def get_data_for_visual_6():\n",
    "    # Query SQL database for the data needed.\n",
    "    QUERY = \"\"\"\n",
    "    SELECT dw.DATE, SUM(tt.tip_amount) AS tips, dw.DailyPrecipitation AS precipitation\n",
    "    FROM taxi_trips tt INNER JOIN daily_weather dw\n",
    "    ON strftime('%Y-%m-%d', tt.pickup_datetime) = dw.DATE\n",
    "    GROUP BY DATE\n",
    "    \"\"\"\n",
    "    \n",
    "    df = pd.read_sql_query(QUERY, engine)\n",
    "    return df"
   ]
  },
  {
   "cell_type": "code",
   "execution_count": null,
   "metadata": {},
   "outputs": [],
   "source": [
    "dataframe6 = get_data_for_visual_6()\n",
    "plot_visual_6(dataframe6)"
   ]
  },
  {
   "cell_type": "code",
   "execution_count": null,
   "metadata": {},
   "outputs": [],
   "source": []
  }
 ],
 "metadata": {
  "kernelspec": {
   "display_name": "Python 3",
   "language": "python",
   "name": "python3"
  },
  "language_info": {
   "codemirror_mode": {
    "name": "ipython",
    "version": 3
   },
   "file_extension": ".py",
   "mimetype": "text/x-python",
   "name": "python",
   "nbconvert_exporter": "python",
   "pygments_lexer": "ipython3",
   "version": "3.8.3"
  }
 },
 "nbformat": 4,
 "nbformat_minor": 5
}
